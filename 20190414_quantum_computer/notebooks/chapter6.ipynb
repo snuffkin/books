{
  "nbformat": 4,
  "nbformat_minor": 0,
  "metadata": {
    "colab": {
      "name": "chapter6.ipynb",
      "version": "0.3.2",
      "provenance": []
    },
    "kernelspec": {
      "name": "python3",
      "display_name": "Python 3"
    }
  },
  "cells": [
    {
      "metadata": {
        "id": "Xdfg5aAomx-t",
        "colab_type": "text"
      },
      "cell_type": "markdown",
      "source": [
        "# 第6章のソースコード"
      ]
    },
    {
      "metadata": {
        "id": "hoij1f38m2mq",
        "colab_type": "text"
      },
      "cell_type": "markdown",
      "source": [
        "## リスト6.1: 量子回路の作成"
      ]
    },
    {
      "metadata": {
        "id": "OBwTJxTDm0-y",
        "colab_type": "code",
        "colab": {
          "base_uri": "https://localhost:8080/",
          "height": 34
        },
        "outputId": "b7b94e9e-6396-4563-a69c-00352c305531"
      },
      "cell_type": "code",
      "source": [
        "from qiskit import QuantumCircuit\n",
        "from qiskit import ClassicalRegister, QuantumRegister\n",
        "\n",
        "# 量子回路の初期化\n",
        "qr = QuantumRegister(2, 'q') # 量子レジスタを作成\n",
        "cr = ClassicalRegister(2, 'c') # 古典レジスタを作成\n",
        "circuit = QuantumCircuit(qr, cr) # レジスタを使い量子回路を初期化\n",
        "\n",
        "# 量子回路の組み立て\n",
        "circuit.h(qr[0]) # アダマール行列を適用\n",
        "circuit.cx(qr[0], qr[1]) # CNOTを適用\n",
        "\n",
        "# 測定\n",
        "circuit.measure(qr, cr)"
      ],
      "execution_count": 1,
      "outputs": [
        {
          "output_type": "execute_result",
          "data": {
            "text/plain": [
              "<qiskit.circuit.instructionset.InstructionSet at 0x7f077da0a5f8>"
            ]
          },
          "metadata": {
            "tags": []
          },
          "execution_count": 1
        }
      ]
    },
    {
      "metadata": {
        "id": "Lzv7UqicnLmo",
        "colab_type": "text"
      },
      "cell_type": "markdown",
      "source": [
        "## リスト6.2: 実行と結果取得(実行する毎に結果は変化します)"
      ]
    },
    {
      "metadata": {
        "id": "IPqOiLFZnQar",
        "colab_type": "code",
        "colab": {
          "base_uri": "https://localhost:8080/",
          "height": 34
        },
        "outputId": "e93a282d-d679-40f8-a9d4-3c8878f114fc"
      },
      "cell_type": "code",
      "source": [
        "from qiskit import BasicAer, execute\n",
        "\n",
        "# 実行と結果取得\n",
        "backend = BasicAer.get_backend('qasm_simulator') # デバイス指定 \n",
        "job = execute(circuit, backend) # 量子プログラムを実行\n",
        "result = job.result() # 結果を取得\n",
        "print(result.get_counts(circuit)) # 結果をテキスト表示"
      ],
      "execution_count": 2,
      "outputs": [
        {
          "output_type": "stream",
          "text": [
            "{'00': 466, '11': 558}\n"
          ],
          "name": "stdout"
        }
      ]
    },
    {
      "metadata": {
        "id": "sRiCrZyQnUiu",
        "colab_type": "text"
      },
      "cell_type": "markdown",
      "source": [
        "## リスト6.4: ヒストグラム表示(実行する毎に結果は変化します)"
      ]
    },
    {
      "metadata": {
        "id": "qG6Ma-AAne8X",
        "colab_type": "code",
        "colab": {
          "base_uri": "https://localhost:8080/",
          "height": 335
        },
        "outputId": "36d15aa2-c729-4547-ce21-7e152fe508d2"
      },
      "cell_type": "code",
      "source": [
        "from qiskit.tools.visualization import plot_histogram\n",
        "\n",
        "# ヒストグラム表示\n",
        "plot_histogram(job.result().get_counts(circuit))"
      ],
      "execution_count": 3,
      "outputs": [
        {
          "output_type": "execute_result",
          "data": {
            "image/png": "[encoded data removed]",
            "text/plain": [
              "<Figure size 504x360 with 1 Axes>"
            ]
          },
          "metadata": {
            "tags": []
          },
          "execution_count": 3
        }
      ]
    },
    {
      "metadata": {
        "id": "k6NDai1nnklA",
        "colab_type": "text"
      },
      "cell_type": "markdown",
      "source": [
        "## リスト6.5: 量子回路を描画"
      ]
    },
    {
      "metadata": {
        "id": "lRceSzx1nnyb",
        "colab_type": "code",
        "colab": {
          "base_uri": "https://localhost:8080/",
          "height": 298
        },
        "outputId": "731a9f95-9c68-4f84-c12c-6d448c1eed2b"
      },
      "cell_type": "code",
      "source": [
        "from qiskit.tools.visualization import circuit_drawer\n",
        "\n",
        "# 量子回路を描画\n",
        "circuit_drawer(circuit)"
      ],
      "execution_count": 4,
      "outputs": [
        {
          "output_type": "stream",
          "text": [
            "/usr/local/lib/python3.6/dist-packages/qiskit/tools/visualization/_circuit_visualization.py:206: DeprecationWarning: The current behavior for the default output will change in a future release. Instead of trying latex and falling back to mpl on failure it will just use \"text\" by default\n",
            "  '\"text\" by default', DeprecationWarning)\n",
            "WARNING: Unable to compile latex. Is `pdflatex` installed? Skipping latex circuit drawing...\n"
          ],
          "name": "stderr"
        },
        {
          "output_type": "execute_result",
          "data": {
            "image/png": "[encoded data removed]",
            "text/plain": [
              "<Figure size 421.4x258.86 with 1 Axes>"
            ]
          },
          "metadata": {
            "tags": []
          },
          "execution_count": 4
        }
      ]
    }
  ]
}