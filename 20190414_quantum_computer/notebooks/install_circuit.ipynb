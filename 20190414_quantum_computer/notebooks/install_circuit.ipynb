{
  "nbformat": 4,
  "nbformat_minor": 0,
  "metadata": {
    "colab": {
      "name": "install_circuit.ipynb",
      "version": "0.3.2",
      "provenance": [],
      "collapsed_sections": []
    },
    "kernelspec": {
      "name": "python3",
      "display_name": "Python 3"
    }
  },
  "cells": [
    {
      "metadata": {
        "id": "9J_hBr_ekphD",
        "colab_type": "text"
      },
      "cell_type": "markdown",
      "source": [
        "# インストール"
      ]
    },
    {
      "metadata": {
        "id": "WnpvI03HkVUb",
        "colab_type": "code",
        "colab": {
          "base_uri": "https://localhost:8080/",
          "height": 1357
        },
        "outputId": "d5de6e08-9d50-4cfc-8c16-dbcf3f091d54"
      },
      "cell_type": "code",
      "source": [
        "!pip install qiskit==0.8.0"
      ],
      "execution_count": 1,
      "outputs": [
        {
          "output_type": "stream",
          "text": [
            "Collecting qiskit==0.8.0\n",
            "  Downloading https://files.pythonhosted.org/packages/37/13/62c8421098faf49cbd380911986b1c9eebead08518084faa9a0dbbfc71c1/qiskit-0.8.0.tar.gz\n",
            "Collecting qiskit_terra==0.7.1 (from qiskit==0.8.0)\n",
            "\u001b[?25l  Downloading https://files.pythonhosted.org/packages/9c/ac/e9353c7d2590333243b64751cd59d7991abb425c512940c325764b0647aa/qiskit_terra-0.7.1-cp36-cp36m-manylinux1_x86_64.whl (6.6MB)\n",
            "\u001b[K    100% |████████████████████████████████| 6.6MB 3.0MB/s \n",
            "\u001b[?25hCollecting qiskit-aer==0.1.1 (from qiskit==0.8.0)\n",
            "\u001b[?25l  Downloading https://files.pythonhosted.org/packages/19/51/c93d33f5154305d177754507f05d113e13695a93500db38e1224633b9035/qiskit_aer-0.1.1-cp36-cp36m-manylinux1_x86_64.whl (18.5MB)\n",
            "\u001b[K    100% |████████████████████████████████| 18.5MB 1.6MB/s \n",
            "\u001b[?25hCollecting qiskit-ignis==0.1.0 (from qiskit==0.8.0)\n",
            "\u001b[?25l  Downloading https://files.pythonhosted.org/packages/cf/78/9f201689069a599c02d676567b55871104a61169857d7474321426f3d603/qiskit_ignis-0.1.0-py3-none-any.whl (66kB)\n",
            "\u001b[K    100% |████████████████████████████████| 71kB 22.7MB/s \n",
            "\u001b[?25hRequirement already satisfied: jsonschema<2.7,>=2.6 in /usr/local/lib/python3.6/dist-packages (from qiskit_terra==0.7.1->qiskit==0.8.0) (2.6.0)\n",
            "Collecting marshmallow-polyfield<4,>=3.2 (from qiskit_terra==0.7.1->qiskit==0.8.0)\n",
            "  Downloading https://files.pythonhosted.org/packages/fa/ba/6406b8cce3e42b2838d234310c3605627083bbb8f71dcc312c616480fe92/marshmallow_polyfield-3.2-py2.py3-none-any.whl\n",
            "Collecting ply>=3.10 (from qiskit_terra==0.7.1->qiskit==0.8.0)\n",
            "\u001b[?25l  Downloading https://files.pythonhosted.org/packages/a3/58/35da89ee790598a0700ea49b2a66594140f44dec458c07e8e3d4979137fc/ply-3.11-py2.py3-none-any.whl (49kB)\n",
            "\u001b[K    100% |████████████████████████████████| 51kB 20.1MB/s \n",
            "\u001b[?25hCollecting requests>=2.19 (from qiskit_terra==0.7.1->qiskit==0.8.0)\n",
            "\u001b[?25l  Downloading https://files.pythonhosted.org/packages/7d/e3/20f3d364d6c8e5d2353c72a67778eb189176f08e873c9900e10c0287b84b/requests-2.21.0-py2.py3-none-any.whl (57kB)\n",
            "\u001b[K    100% |████████████████████████████████| 61kB 21.9MB/s \n",
            "\u001b[?25hRequirement already satisfied: scipy!=0.19.1,>=0.19 in /usr/local/lib/python3.6/dist-packages (from qiskit_terra==0.7.1->qiskit==0.8.0) (1.1.0)\n",
            "Collecting pillow>=4.2.1 (from qiskit_terra==0.7.1->qiskit==0.8.0)\n",
            "\u001b[?25l  Downloading https://files.pythonhosted.org/packages/d2/c2/f84b1e57416755e967236468dcfb0fad7fd911f707185efc4ba8834a1a94/Pillow-6.0.0-cp36-cp36m-manylinux1_x86_64.whl (2.0MB)\n",
            "\u001b[K    100% |████████████████████████████████| 2.0MB 15.3MB/s \n",
            "\u001b[?25hCollecting sympy>=1.3 (from qiskit_terra==0.7.1->qiskit==0.8.0)\n",
            "\u001b[?25l  Downloading https://files.pythonhosted.org/packages/21/21/f4105795ca7f35c541d82c5b06be684dd2f5cb4f508fb487cd7aea4de776/sympy-1.4-py2.py3-none-any.whl (5.3MB)\n",
            "\u001b[K    100% |████████████████████████████████| 5.3MB 7.0MB/s \n",
            "\u001b[?25hCollecting marshmallow<3,>=2.16.3 (from qiskit_terra==0.7.1->qiskit==0.8.0)\n",
            "\u001b[?25l  Downloading https://files.pythonhosted.org/packages/bc/b4/f54f8533aad0645431bfda2cc3d20913a305779c80f8cb71229e8b615c5b/marshmallow-2.19.2-py2.py3-none-any.whl (50kB)\n",
            "\u001b[K    100% |████████████████████████████████| 51kB 19.9MB/s \n",
            "\u001b[?25hCollecting requests-ntlm>=1.1.0 (from qiskit_terra==0.7.1->qiskit==0.8.0)\n",
            "  Downloading https://files.pythonhosted.org/packages/03/4b/8b9a1afde8072c4d5710d9fa91433d504325821b038e00237dc8d6d833dc/requests_ntlm-1.1.0-py2.py3-none-any.whl\n",
            "Requirement already satisfied: psutil>=5 in /usr/local/lib/python3.6/dist-packages (from qiskit_terra==0.7.1->qiskit==0.8.0) (5.4.8)\n",
            "Requirement already satisfied: numpy>=1.13 in /usr/local/lib/python3.6/dist-packages (from qiskit_terra==0.7.1->qiskit==0.8.0) (1.14.6)\n",
            "Requirement already satisfied: networkx>=2.2 in /usr/local/lib/python3.6/dist-packages (from qiskit_terra==0.7.1->qiskit==0.8.0) (2.2)\n",
            "Requirement already satisfied: certifi>=2017.4.17 in /usr/local/lib/python3.6/dist-packages (from requests>=2.19->qiskit_terra==0.7.1->qiskit==0.8.0) (2019.3.9)\n",
            "Requirement already satisfied: idna<2.9,>=2.5 in /usr/local/lib/python3.6/dist-packages (from requests>=2.19->qiskit_terra==0.7.1->qiskit==0.8.0) (2.6)\n",
            "Requirement already satisfied: urllib3<1.25,>=1.21.1 in /usr/local/lib/python3.6/dist-packages (from requests>=2.19->qiskit_terra==0.7.1->qiskit==0.8.0) (1.22)\n",
            "Requirement already satisfied: chardet<3.1.0,>=3.0.2 in /usr/local/lib/python3.6/dist-packages (from requests>=2.19->qiskit_terra==0.7.1->qiskit==0.8.0) (3.0.4)\n",
            "Requirement already satisfied: mpmath>=0.19 in /usr/local/lib/python3.6/dist-packages (from sympy>=1.3->qiskit_terra==0.7.1->qiskit==0.8.0) (1.1.0)\n",
            "Collecting ntlm-auth>=1.0.2 (from requests-ntlm>=1.1.0->qiskit_terra==0.7.1->qiskit==0.8.0)\n",
            "  Downloading https://files.pythonhosted.org/packages/d5/3d/1c54e92f62bbc747a638da94adb439f99dc2d2f3041fe41a06b0da4f2808/ntlm_auth-1.3.0-py2.py3-none-any.whl\n",
            "Collecting cryptography>=1.3 (from requests-ntlm>=1.1.0->qiskit_terra==0.7.1->qiskit==0.8.0)\n",
            "\u001b[?25l  Downloading https://files.pythonhosted.org/packages/5b/12/b0409a94dad366d98a8eee2a77678c7a73aafd8c0e4b835abea634ea3896/cryptography-2.6.1-cp34-abi3-manylinux1_x86_64.whl (2.3MB)\n",
            "\u001b[K    100% |████████████████████████████████| 2.3MB 13.0MB/s \n",
            "\u001b[?25hRequirement already satisfied: decorator>=4.3.0 in /usr/local/lib/python3.6/dist-packages (from networkx>=2.2->qiskit_terra==0.7.1->qiskit==0.8.0) (4.4.0)\n",
            "Collecting asn1crypto>=0.21.0 (from cryptography>=1.3->requests-ntlm>=1.1.0->qiskit_terra==0.7.1->qiskit==0.8.0)\n",
            "\u001b[?25l  Downloading https://files.pythonhosted.org/packages/ea/cd/35485615f45f30a510576f1a56d1e0a7ad7bd8ab5ed7cdc600ef7cd06222/asn1crypto-0.24.0-py2.py3-none-any.whl (101kB)\n",
            "\u001b[K    100% |████████████████████████████████| 102kB 28.9MB/s \n",
            "\u001b[?25hRequirement already satisfied: cffi!=1.11.3,>=1.8 in /usr/local/lib/python3.6/dist-packages (from cryptography>=1.3->requests-ntlm>=1.1.0->qiskit_terra==0.7.1->qiskit==0.8.0) (1.12.2)\n",
            "Requirement already satisfied: six>=1.4.1 in /usr/local/lib/python3.6/dist-packages (from cryptography>=1.3->requests-ntlm>=1.1.0->qiskit_terra==0.7.1->qiskit==0.8.0) (1.11.0)\n",
            "Requirement already satisfied: pycparser in /usr/local/lib/python3.6/dist-packages (from cffi!=1.11.3,>=1.8->cryptography>=1.3->requests-ntlm>=1.1.0->qiskit_terra==0.7.1->qiskit==0.8.0) (2.19)\n",
            "Building wheels for collected packages: qiskit\n",
            "  Building wheel for qiskit (setup.py) ... \u001b[?25lerror\n",
            "\u001b[31m  Failed building wheel for qiskit\u001b[0m\n",
            "\u001b[?25h  Running setup.py clean for qiskit\n",
            "Failed to build qiskit\n",
            "\u001b[31mspacy 2.0.18 has requirement numpy>=1.15.0, but you'll have numpy 1.14.6 which is incompatible.\u001b[0m\n",
            "\u001b[31mimgaug 0.2.8 has requirement numpy>=1.15.0, but you'll have numpy 1.14.6 which is incompatible.\u001b[0m\n",
            "\u001b[31mgoogle-colab 1.0.0 has requirement requests~=2.18.0, but you'll have requests 2.21.0 which is incompatible.\u001b[0m\n",
            "\u001b[31mfastai 1.0.51 has requirement numpy>=1.15, but you'll have numpy 1.14.6 which is incompatible.\u001b[0m\n",
            "\u001b[31mdatascience 0.10.6 has requirement folium==0.2.1, but you'll have folium 0.8.3 which is incompatible.\u001b[0m\n",
            "\u001b[31malbumentations 0.1.12 has requirement imgaug<0.2.7,>=0.2.5, but you'll have imgaug 0.2.8 which is incompatible.\u001b[0m\n",
            "Installing collected packages: marshmallow, marshmallow-polyfield, ply, requests, pillow, sympy, ntlm-auth, asn1crypto, cryptography, requests-ntlm, qiskit-terra, qiskit-aer, qiskit-ignis, qiskit\n",
            "  Found existing installation: requests 2.18.4\n",
            "    Uninstalling requests-2.18.4:\n",
            "      Successfully uninstalled requests-2.18.4\n",
            "  Found existing installation: Pillow 4.1.1\n",
            "    Uninstalling Pillow-4.1.1:\n",
            "      Successfully uninstalled Pillow-4.1.1\n",
            "  Found existing installation: sympy 1.1.1\n",
            "    Uninstalling sympy-1.1.1:\n",
            "      Successfully uninstalled sympy-1.1.1\n",
            "  Running setup.py install for qiskit ... \u001b[?25ldone\n",
            "\u001b[?25hSuccessfully installed asn1crypto-0.24.0 cryptography-2.6.1 marshmallow-2.19.2 marshmallow-polyfield-3.2 ntlm-auth-1.3.0 pillow-6.0.0 ply-3.11 qiskit-0.8.0 qiskit-aer-0.1.1 qiskit-ignis-0.1.0 qiskit-terra-0.7.1 requests-2.21.0 requests-ntlm-1.1.0 sympy-1.4\n"
          ],
          "name": "stdout"
        }
      ]
    },
    {
      "metadata": {
        "id": "u8LPZKPykuMD",
        "colab_type": "text"
      },
      "cell_type": "markdown",
      "source": [
        "# 1量子ビットの量子回路"
      ]
    },
    {
      "metadata": {
        "id": "MlKnoHMMkza-",
        "colab_type": "code",
        "colab": {
          "base_uri": "https://localhost:8080/",
          "height": 208
        },
        "outputId": "14acef48-fbbb-4974-bdfd-b428186c7975"
      },
      "cell_type": "code",
      "source": [
        "from qiskit import QuantumCircuit, ClassicalRegister, QuantumRegister\n",
        "from qiskit import execute, BasicAer\n",
        "from qiskit.tools.visualization import plot_histogram\n",
        "\n",
        "qr = QuantumRegister(1, 'q')\n",
        "cr = ClassicalRegister(1, 'c')\n",
        "circuit = QuantumCircuit(qr, cr)\n",
        "\n",
        "circuit.h(qr[0])\n",
        "\n",
        "from qiskit.tools.visualization import circuit_drawer\n",
        "circuit_drawer(circuit)"
      ],
      "execution_count": 2,
      "outputs": [
        {
          "output_type": "stream",
          "text": [
            "/usr/local/lib/python3.6/dist-packages/qiskit/tools/visualization/_circuit_visualization.py:206: DeprecationWarning: The current behavior for the default output will change in a future release. Instead of trying latex and falling back to mpl on failure it will just use \"text\" by default\n",
            "  '\"text\" by default', DeprecationWarning)\n",
            "WARNING: Unable to compile latex. Is `pdflatex` installed? Skipping latex circuit drawing...\n"
          ],
          "name": "stderr"
        },
        {
          "output_type": "execute_result",
          "data": {
            "image/png": "[encoded data removed]",
            "text/plain": [
              "<Figure size 240.8x138.46 with 1 Axes>"
            ]
          },
          "metadata": {
            "tags": []
          },
          "execution_count": 2
        }
      ]
    },
    {
      "metadata": {
        "id": "UKPQS95Jk5N5",
        "colab_type": "code",
        "colab": {
          "base_uri": "https://localhost:8080/",
          "height": 208
        },
        "outputId": "01553dac-0f2e-47eb-94f9-3be84027f62c"
      },
      "cell_type": "code",
      "source": [
        "from qiskit import QuantumCircuit, ClassicalRegister, QuantumRegister\n",
        "from qiskit import execute, BasicAer\n",
        "from qiskit.tools.visualization import plot_histogram\n",
        "\n",
        "qr = QuantumRegister(1, 'q')\n",
        "cr = ClassicalRegister(1, 'c')\n",
        "circuit = QuantumCircuit(qr, cr)\n",
        "\n",
        "circuit.x(qr[0])\n",
        "\n",
        "from qiskit.tools.visualization import circuit_drawer\n",
        "circuit_drawer(circuit)"
      ],
      "execution_count": 3,
      "outputs": [
        {
          "output_type": "stream",
          "text": [
            "/usr/local/lib/python3.6/dist-packages/qiskit/tools/visualization/_circuit_visualization.py:206: DeprecationWarning: The current behavior for the default output will change in a future release. Instead of trying latex and falling back to mpl on failure it will just use \"text\" by default\n",
            "  '\"text\" by default', DeprecationWarning)\n",
            "WARNING: Unable to compile latex. Is `pdflatex` installed? Skipping latex circuit drawing...\n"
          ],
          "name": "stderr"
        },
        {
          "output_type": "execute_result",
          "data": {
            "image/png": "[encoded data removed]",
            "text/plain": [
              "<Figure size 240.8x138.46 with 1 Axes>"
            ]
          },
          "metadata": {
            "tags": []
          },
          "execution_count": 3
        }
      ]
    },
    {
      "metadata": {
        "id": "jzyV1FTlk5Q9",
        "colab_type": "code",
        "colab": {
          "base_uri": "https://localhost:8080/",
          "height": 208
        },
        "outputId": "42ed6c82-d9c4-4110-dcf8-14fb00651ecf"
      },
      "cell_type": "code",
      "source": [
        "from qiskit import QuantumCircuit, ClassicalRegister, QuantumRegister\n",
        "from qiskit import execute, BasicAer\n",
        "from qiskit.tools.visualization import plot_histogram\n",
        "\n",
        "qr = QuantumRegister(1, 'q')\n",
        "cr = ClassicalRegister(1, 'c')\n",
        "circuit = QuantumCircuit(qr, cr)\n",
        "\n",
        "circuit.z(qr[0])\n",
        "\n",
        "from qiskit.tools.visualization import circuit_drawer\n",
        "circuit_drawer(circuit)"
      ],
      "execution_count": 4,
      "outputs": [
        {
          "output_type": "stream",
          "text": [
            "/usr/local/lib/python3.6/dist-packages/qiskit/tools/visualization/_circuit_visualization.py:206: DeprecationWarning: The current behavior for the default output will change in a future release. Instead of trying latex and falling back to mpl on failure it will just use \"text\" by default\n",
            "  '\"text\" by default', DeprecationWarning)\n",
            "WARNING: Unable to compile latex. Is `pdflatex` installed? Skipping latex circuit drawing...\n"
          ],
          "name": "stderr"
        },
        {
          "output_type": "execute_result",
          "data": {
            "image/png": "[encoded data removed]",
            "text/plain": [
              "<Figure size 240.8x138.46 with 1 Axes>"
            ]
          },
          "metadata": {
            "tags": []
          },
          "execution_count": 4
        }
      ]
    },
    {
      "metadata": {
        "id": "TIjDqsrJk5W3",
        "colab_type": "code",
        "colab": {
          "base_uri": "https://localhost:8080/",
          "height": 208
        },
        "outputId": "f09428d9-0ff7-4dfe-cae4-5d14ece5ebc8"
      },
      "cell_type": "code",
      "source": [
        "from qiskit import QuantumCircuit, ClassicalRegister, QuantumRegister\n",
        "from qiskit import execute, BasicAer\n",
        "from qiskit.tools.visualization import plot_histogram\n",
        "\n",
        "qr = QuantumRegister(1, 'q')\n",
        "cr = ClassicalRegister(1, 'c')\n",
        "circuit = QuantumCircuit(qr, cr)\n",
        "\n",
        "circuit.iden(qr[0])\n",
        "\n",
        "from qiskit.tools.visualization import circuit_drawer\n",
        "circuit_drawer(circuit)"
      ],
      "execution_count": 5,
      "outputs": [
        {
          "output_type": "stream",
          "text": [
            "/usr/local/lib/python3.6/dist-packages/qiskit/tools/visualization/_circuit_visualization.py:206: DeprecationWarning: The current behavior for the default output will change in a future release. Instead of trying latex and falling back to mpl on failure it will just use \"text\" by default\n",
            "  '\"text\" by default', DeprecationWarning)\n",
            "WARNING: Unable to compile latex. Is `pdflatex` installed? Skipping latex circuit drawing...\n"
          ],
          "name": "stderr"
        },
        {
          "output_type": "execute_result",
          "data": {
            "image/png": "[encoded data removed]",
            "text/plain": [
              "<Figure size 240.8x138.46 with 1 Axes>"
            ]
          },
          "metadata": {
            "tags": []
          },
          "execution_count": 5
        }
      ]
    },
    {
      "metadata": {
        "id": "m843Ot8-k5ZZ",
        "colab_type": "code",
        "colab": {
          "base_uri": "https://localhost:8080/",
          "height": 208
        },
        "outputId": "4d6899d9-a994-42de-e1aa-1b783f6c5236"
      },
      "cell_type": "code",
      "source": [
        "from qiskit import QuantumCircuit, ClassicalRegister, QuantumRegister\n",
        "from qiskit import execute, BasicAer\n",
        "from qiskit.tools.visualization import plot_histogram\n",
        "\n",
        "qr = QuantumRegister(1, 'q')\n",
        "cr = ClassicalRegister(1, 'c')\n",
        "circuit = QuantumCircuit(qr, cr)\n",
        "\n",
        "circuit.measure(qr, cr)\n",
        "\n",
        "from qiskit.tools.visualization import circuit_drawer\n",
        "circuit_drawer(circuit)"
      ],
      "execution_count": 6,
      "outputs": [
        {
          "output_type": "stream",
          "text": [
            "/usr/local/lib/python3.6/dist-packages/qiskit/tools/visualization/_circuit_visualization.py:206: DeprecationWarning: The current behavior for the default output will change in a future release. Instead of trying latex and falling back to mpl on failure it will just use \"text\" by default\n",
            "  '\"text\" by default', DeprecationWarning)\n",
            "WARNING: Unable to compile latex. Is `pdflatex` installed? Skipping latex circuit drawing...\n"
          ],
          "name": "stderr"
        },
        {
          "output_type": "execute_result",
          "data": {
            "image/png": "[encoded data removed]",
            "text/plain": [
              "<Figure size 240.8x138.46 with 1 Axes>"
            ]
          },
          "metadata": {
            "tags": []
          },
          "execution_count": 6
        }
      ]
    },
    {
      "metadata": {
        "id": "qt6KVqMdloUr",
        "colab_type": "code",
        "colab": {
          "base_uri": "https://localhost:8080/",
          "height": 208
        },
        "outputId": "abbc7534-1387-42b1-f267-eddd0f4dbbc8"
      },
      "cell_type": "code",
      "source": [
        "from qiskit import QuantumCircuit, ClassicalRegister, QuantumRegister\n",
        "from qiskit import execute, BasicAer\n",
        "from qiskit.tools.visualization import plot_histogram\n",
        "\n",
        "qr = QuantumRegister(1, 'q')\n",
        "cr = ClassicalRegister(1, 'c')\n",
        "circuit = QuantumCircuit(qr, cr)\n",
        "\n",
        "circuit.x(qr[0])\n",
        "circuit.h(qr[0])\n",
        "\n",
        "circuit.measure(qr, cr)\n",
        "\n",
        "from qiskit.tools.visualization import circuit_drawer\n",
        "circuit_drawer(circuit)"
      ],
      "execution_count": 7,
      "outputs": [
        {
          "output_type": "stream",
          "text": [
            "/usr/local/lib/python3.6/dist-packages/qiskit/tools/visualization/_circuit_visualization.py:206: DeprecationWarning: The current behavior for the default output will change in a future release. Instead of trying latex and falling back to mpl on failure it will just use \"text\" by default\n",
            "  '\"text\" by default', DeprecationWarning)\n",
            "WARNING: Unable to compile latex. Is `pdflatex` installed? Skipping latex circuit drawing...\n"
          ],
          "name": "stderr"
        },
        {
          "output_type": "execute_result",
          "data": {
            "image/png": "[encoded data removed]",
            "text/plain": [
              "<Figure size 361.2x138.46 with 1 Axes>"
            ]
          },
          "metadata": {
            "tags": []
          },
          "execution_count": 7
        }
      ]
    },
    {
      "metadata": {
        "id": "ykr1UrvHlG8A",
        "colab_type": "text"
      },
      "cell_type": "markdown",
      "source": [
        "# 2量子ビットの量子回路"
      ]
    },
    {
      "metadata": {
        "id": "Wu8laf4MlGk3",
        "colab_type": "code",
        "colab": {
          "base_uri": "https://localhost:8080/",
          "height": 298
        },
        "outputId": "4b5c4d94-79e0-4eb6-fd04-0b8ed07d4c86"
      },
      "cell_type": "code",
      "source": [
        "from qiskit import QuantumCircuit, ClassicalRegister, QuantumRegister\n",
        "from qiskit import execute, BasicAer\n",
        "from qiskit.tools.visualization import plot_histogram\n",
        "\n",
        "qr = QuantumRegister(2, 'q')\n",
        "cr = ClassicalRegister(2, 'c')\n",
        "circuit = QuantumCircuit(qr, cr)\n",
        "\n",
        "circuit.h(qr[0])\n",
        "circuit.cx(qr[0], qr[1])\n",
        "\n",
        "circuit.measure(qr, cr)\n",
        "\n",
        "from qiskit.tools.visualization import circuit_drawer\n",
        "circuit_drawer(circuit)"
      ],
      "execution_count": 8,
      "outputs": [
        {
          "output_type": "stream",
          "text": [
            "/usr/local/lib/python3.6/dist-packages/qiskit/tools/visualization/_circuit_visualization.py:206: DeprecationWarning: The current behavior for the default output will change in a future release. Instead of trying latex and falling back to mpl on failure it will just use \"text\" by default\n",
            "  '\"text\" by default', DeprecationWarning)\n",
            "WARNING: Unable to compile latex. Is `pdflatex` installed? Skipping latex circuit drawing...\n"
          ],
          "name": "stderr"
        },
        {
          "output_type": "execute_result",
          "data": {
            "image/png": "[encoded data removed]",
            "text/plain": [
              "<Figure size 421.4x258.86 with 1 Axes>"
            ]
          },
          "metadata": {
            "tags": []
          },
          "execution_count": 8
        }
      ]
    },
    {
      "metadata": {
        "id": "mDnSgGyGk5bh",
        "colab_type": "code",
        "colab": {
          "base_uri": "https://localhost:8080/",
          "height": 298
        },
        "outputId": "226def9d-e13e-47e7-81a9-355ec30fa2f4"
      },
      "cell_type": "code",
      "source": [
        "from qiskit import QuantumCircuit, ClassicalRegister, QuantumRegister\n",
        "from qiskit import execute, BasicAer\n",
        "from qiskit.tools.visualization import plot_histogram\n",
        "\n",
        "qr = QuantumRegister(2, 'q')\n",
        "cr = ClassicalRegister(2, 'c')\n",
        "circuit = QuantumCircuit(qr, cr)\n",
        "\n",
        "circuit.cx(qr[0], qr[1])\n",
        "\n",
        "from qiskit.tools.visualization import circuit_drawer\n",
        "circuit_drawer(circuit)"
      ],
      "execution_count": 9,
      "outputs": [
        {
          "output_type": "stream",
          "text": [
            "/usr/local/lib/python3.6/dist-packages/qiskit/tools/visualization/_circuit_visualization.py:206: DeprecationWarning: The current behavior for the default output will change in a future release. Instead of trying latex and falling back to mpl on failure it will just use \"text\" by default\n",
            "  '\"text\" by default', DeprecationWarning)\n",
            "WARNING: Unable to compile latex. Is `pdflatex` installed? Skipping latex circuit drawing...\n"
          ],
          "name": "stderr"
        },
        {
          "output_type": "execute_result",
          "data": {
            "image/png": "[encoded data removed]",
            "text/plain": [
              "<Figure size 240.8x258.86 with 1 Axes>"
            ]
          },
          "metadata": {
            "tags": []
          },
          "execution_count": 9
        }
      ]
    },
    {
      "metadata": {
        "id": "5Ohv0SNZk5eZ",
        "colab_type": "code",
        "colab": {
          "base_uri": "https://localhost:8080/",
          "height": 298
        },
        "outputId": "929760cf-f354-44bd-d4ae-5fd7a7d79786"
      },
      "cell_type": "code",
      "source": [
        "from qiskit import QuantumCircuit, ClassicalRegister, QuantumRegister\n",
        "from qiskit import execute, BasicAer\n",
        "from qiskit.tools.visualization import plot_histogram\n",
        "\n",
        "qr = QuantumRegister(2, 'q')\n",
        "cr = ClassicalRegister(2, 'c')\n",
        "circuit = QuantumCircuit(qr, cr)\n",
        "\n",
        "circuit.cx(qr[1], qr[0])\n",
        "\n",
        "from qiskit.tools.visualization import circuit_drawer\n",
        "circuit_drawer(circuit)"
      ],
      "execution_count": 10,
      "outputs": [
        {
          "output_type": "stream",
          "text": [
            "/usr/local/lib/python3.6/dist-packages/qiskit/tools/visualization/_circuit_visualization.py:206: DeprecationWarning: The current behavior for the default output will change in a future release. Instead of trying latex and falling back to mpl on failure it will just use \"text\" by default\n",
            "  '\"text\" by default', DeprecationWarning)\n",
            "WARNING: Unable to compile latex. Is `pdflatex` installed? Skipping latex circuit drawing...\n"
          ],
          "name": "stderr"
        },
        {
          "output_type": "execute_result",
          "data": {
            "image/png": "[encoded data removed]",
            "text/plain": [
              "<Figure size 240.8x258.86 with 1 Axes>"
            ]
          },
          "metadata": {
            "tags": []
          },
          "execution_count": 10
        }
      ]
    },
    {
      "metadata": {
        "id": "TCYUkvgKlYiS",
        "colab_type": "code",
        "colab": {
          "base_uri": "https://localhost:8080/",
          "height": 298
        },
        "outputId": "4da0ef5a-851f-49c0-a963-818bc235ff0d"
      },
      "cell_type": "code",
      "source": [
        "from qiskit import QuantumCircuit, ClassicalRegister, QuantumRegister\n",
        "from qiskit import execute, BasicAer\n",
        "from qiskit.tools.visualization import plot_histogram\n",
        "\n",
        "qr = QuantumRegister(2, 'q')\n",
        "cr = ClassicalRegister(2, 'c')\n",
        "circuit = QuantumCircuit(qr, cr)\n",
        "\n",
        "circuit.swap(qr[0], qr[1])\n",
        "\n",
        "from qiskit.tools.visualization import circuit_drawer\n",
        "circuit_drawer(circuit)"
      ],
      "execution_count": 11,
      "outputs": [
        {
          "output_type": "stream",
          "text": [
            "/usr/local/lib/python3.6/dist-packages/qiskit/tools/visualization/_circuit_visualization.py:206: DeprecationWarning: The current behavior for the default output will change in a future release. Instead of trying latex and falling back to mpl on failure it will just use \"text\" by default\n",
            "  '\"text\" by default', DeprecationWarning)\n",
            "WARNING: Unable to compile latex. Is `pdflatex` installed? Skipping latex circuit drawing...\n"
          ],
          "name": "stderr"
        },
        {
          "output_type": "execute_result",
          "data": {
            "image/png": "[encoded data removed]",
            "text/plain": [
              "<Figure size 240.8x258.86 with 1 Axes>"
            ]
          },
          "metadata": {
            "tags": []
          },
          "execution_count": 11
        }
      ]
    },
    {
      "metadata": {
        "id": "C91ASb99lYkp",
        "colab_type": "code",
        "colab": {
          "base_uri": "https://localhost:8080/",
          "height": 298
        },
        "outputId": "6f8c35d2-3396-4532-ffad-65b18d67a167"
      },
      "cell_type": "code",
      "source": [
        "from qiskit import QuantumCircuit, ClassicalRegister, QuantumRegister\n",
        "from qiskit import execute, BasicAer\n",
        "from qiskit.tools.visualization import plot_histogram\n",
        "\n",
        "qr = QuantumRegister(2, 'q')\n",
        "cr = ClassicalRegister(2, 'c')\n",
        "circuit = QuantumCircuit(qr, cr)\n",
        "\n",
        "circuit.measure(qr, cr)\n",
        "\n",
        "from qiskit.tools.visualization import circuit_drawer\n",
        "circuit_drawer(circuit)"
      ],
      "execution_count": 12,
      "outputs": [
        {
          "output_type": "stream",
          "text": [
            "/usr/local/lib/python3.6/dist-packages/qiskit/tools/visualization/_circuit_visualization.py:206: DeprecationWarning: The current behavior for the default output will change in a future release. Instead of trying latex and falling back to mpl on failure it will just use \"text\" by default\n",
            "  '\"text\" by default', DeprecationWarning)\n",
            "WARNING: Unable to compile latex. Is `pdflatex` installed? Skipping latex circuit drawing...\n"
          ],
          "name": "stderr"
        },
        {
          "output_type": "execute_result",
          "data": {
            "image/png": "[encoded data removed]",
            "text/plain": [
              "<Figure size 301x258.86 with 1 Axes>"
            ]
          },
          "metadata": {
            "tags": []
          },
          "execution_count": 12
        }
      ]
    }
  ]
}