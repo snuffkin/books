{
  "nbformat": 4,
  "nbformat_minor": 0,
  "metadata": {
    "colab": {
      "name": "chapter7.ipynb",
      "version": "0.3.2",
      "provenance": [],
      "collapsed_sections": []
    },
    "kernelspec": {
      "name": "python3",
      "display_name": "Python 3"
    }
  },
  "cells": [
    {
      "metadata": {
        "id": "Bd0JCrYboXGa",
        "colab_type": "text"
      },
      "cell_type": "markdown",
      "source": [
        "# 第7章のソースコード"
      ]
    },
    {
      "metadata": {
        "id": "AcBCC_1Oor6l",
        "colab_type": "text"
      },
      "cell_type": "markdown",
      "source": [
        "## リスト7.1: API Token を設定"
      ]
    },
    {
      "metadata": {
        "id": "WljqQm3yfz3v",
        "colab_type": "text"
      },
      "cell_type": "markdown",
      "source": [
        "'MY_API_TOKEN'はご自身のAPI Tokenに書き換えて実行してください。"
      ]
    },
    {
      "metadata": {
        "id": "W6yWagP6oYci",
        "colab_type": "code",
        "colab": {}
      },
      "cell_type": "code",
      "source": [
        "from qiskit import IBMQ\n",
        "IBMQ.enable_account('MY_API_TOKEN')\n",
      ],
      "execution_count": 0,
      "outputs": []
    },
    {
      "metadata": {
        "id": "ONvGxTW5otk8",
        "colab_type": "text"
      },
      "cell_type": "markdown",
      "source": [
        "## リスト7.2: 量子コンピュータを実行するプログラム(実行する毎に結果は変化します)"
      ]
    },
    {
      "metadata": {
        "id": "ZD8unVtNd6eX",
        "colab_type": "text"
      },
      "cell_type": "markdown",
      "source": [
        "'ibmqx4'がメンテナンス中で利用できなかったため、backendは'ibmq_16_melbourne'で実行しています。"
      ]
    },
    {
      "metadata": {
        "id": "9uDzQnzoofsU",
        "colab_type": "code",
        "colab": {
          "base_uri": "https://localhost:8080/",
          "height": 474
        },
        "outputId": "73754d4c-b43b-43f6-a8af-c9d8129f469b"
      },
      "cell_type": "code",
      "source": [
        "from qiskit import QuantumCircuit\n",
        "from qiskit import ClassicalRegister, QuantumRegister\n",
        "from qiskit import execute\n",
        "import time\n",
        "from qiskit.providers.jobstatus import JOB_FINAL_STATES\n",
        "\n",
        "# 量子回路の初期化\n",
        "qr = QuantumRegister(2, 'q') # 量子レジスタを作成\n",
        "cr = ClassicalRegister(2, 'c') # 古典レジスタを作成\n",
        "circuit = QuantumCircuit(qr, cr) # レジスタを使い量子回路を初期化\n",
        "\n",
        "# 量子回路の組み立て\n",
        "circuit.h(qr[0]) # アダマール行列を適用\n",
        "circuit.cx(qr[0], qr[1]) # CNOTを適用\n",
        "\n",
        "# 測定\n",
        "circuit.measure(qr, cr)\n",
        "\n",
        "# 実行と結果取得\n",
        "backend = IBMQ.get_backend('ibmq_16_melbourne') # デバイス指定 \n",
        "job = execute(circuit, backend) # 量子プログラムを実行\n",
        "\n",
        "# 実行が終了するまで待機\n",
        "start_time = time.time()\n",
        "job_status = job.status()\n",
        "while job_status not in JOB_FINAL_STATES:\n",
        "    time.sleep(10)\n",
        "    job_status = job.status()\n",
        "    print('%0.0f s' % float(time.time()-start_time))\n",
        "\n",
        "result = job.result() # 結果を取得\n",
        "print(result.get_counts(circuit)) # 結果をテキスト表示"
      ],
      "execution_count": 2,
      "outputs": [
        {
          "output_type": "stream",
          "text": [
            "11 s\n",
            "21 s\n",
            "32 s\n",
            "43 s\n",
            "53 s\n",
            "64 s\n",
            "74 s\n",
            "84 s\n",
            "95 s\n",
            "106 s\n",
            "116 s\n",
            "127 s\n",
            "137 s\n",
            "147 s\n",
            "158 s\n",
            "168 s\n",
            "179 s\n",
            "189 s\n",
            "200 s\n",
            "210 s\n",
            "221 s\n",
            "231 s\n",
            "242 s\n",
            "252 s\n",
            "263 s\n",
            "{'11': 246, '01': 144, '10': 262, '00': 372}\n"
          ],
          "name": "stdout"
        }
      ]
    },
    {
      "metadata": {
        "id": "gf5MAuszo0ip",
        "colab_type": "text"
      },
      "cell_type": "markdown",
      "source": [
        "## リスト7.4: ヒストグラム表示"
      ]
    },
    {
      "metadata": {
        "id": "wB6-T66Qo1ak",
        "colab_type": "code",
        "colab": {
          "base_uri": "https://localhost:8080/",
          "height": 335
        },
        "outputId": "e581092f-5466-4040-e299-a5ef32022525"
      },
      "cell_type": "code",
      "source": [
        "from qiskit.tools.visualization import plot_histogram\n",
        "\n",
        "# ヒストグラム表示\n",
        "plot_histogram(job.result().get_counts(circuit))"
      ],
      "execution_count": 3,
      "outputs": [
        {
          "output_type": "execute_result",
          "data": {
            "image/png": "iVBORw0KGgoAAAANSUhEUgAAAccAAAE+CAYAAAD4YdtjAAAABHNCSVQICAgIfAhkiAAAAAlwSFlz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\n",
            "text/plain": [
              "<Figure size 504x360 with 1 Axes>"
            ]
          },
          "metadata": {
            "tags": []
          },
          "execution_count": 3
        }
      ]
    }
  ]
}