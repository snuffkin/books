{
  "nbformat": 4,
  "nbformat_minor": 0,
  "metadata": {
    "colab": {
      "name": "install_circuit.ipynb",
      "version": "0.3.2",
      "provenance": [],
      "collapsed_sections": []
    },
    "kernelspec": {
      "name": "python3",
      "display_name": "Python 3"
    }
  },
  "cells": [
    {
      "cell_type": "markdown",
      "metadata": {
        "id": "9J_hBr_ekphD",
        "colab_type": "text"
      },
      "source": [
        "# インストール"
      ]
    },
    {
      "cell_type": "code",
      "metadata": {
        "id": "WnpvI03HkVUb",
        "colab_type": "code",
        "outputId": "3a953266-f717-4eea-98e2-c7bab4eb09ac",
        "colab": {
          "base_uri": "https://localhost:8080/",
          "height": 1000
        }
      },
      "source": [
        "!pip install qiskit==0.10.5"
      ],
      "execution_count": 1,
      "outputs": [
        {
          "output_type": "stream",
          "text": [
            "Collecting qiskit==0.10.5\n",
            "  Downloading https://files.pythonhosted.org/packages/a0/d0/a880e3681b354a27fb40aea658c275635534667a41fab9da7895cb62286a/qiskit-0.10.5.tar.gz\n",
            "Collecting qiskit_terra==0.8.2 (from qiskit==0.10.5)\n",
            "\u001b[?25l  Downloading https://files.pythonhosted.org/packages/71/52/ebfa1c41722ae5e04d2456677e6d492373d9b28eca5cdf86b8f2981b1e21/qiskit_terra-0.8.2-cp36-cp36m-manylinux1_x86_64.whl (1.5MB)\n",
            "\u001b[K     |████████████████████████████████| 1.5MB 5.1MB/s \n",
            "\u001b[?25hCollecting qiskit-aer==0.2.1 (from qiskit==0.10.5)\n",
            "\u001b[?25l  Downloading https://files.pythonhosted.org/packages/bf/f2/cf8f6433457ff91ddc94b9dc0c3c5c5c7bc75159a1c1d0cd621606248abb/qiskit_aer-0.2.1-cp36-cp36m-manylinux1_x86_64.whl (21.3MB)\n",
            "\u001b[K     |████████████████████████████████| 21.3MB 71.2MB/s \n",
            "\u001b[?25hCollecting qiskit-ibmq-provider==0.2.2 (from qiskit==0.10.5)\n",
            "\u001b[?25l  Downloading https://files.pythonhosted.org/packages/5f/46/5d950ad9ca8db2029104438967c6a29f66645a23fd8e8764e7df01f1dbcf/qiskit-ibmq-provider-0.2.2.tar.gz (40kB)\n",
            "\u001b[K     |████████████████████████████████| 40kB 19.4MB/s \n",
            "\u001b[?25hCollecting qiskit-ignis==0.1.1 (from qiskit==0.10.5)\n",
            "\u001b[?25l  Downloading https://files.pythonhosted.org/packages/6e/4e/77230b3a51a864fd54c2ef7b6a0d417063cf4b18943ce8fcd45e15f74f3e/qiskit_ignis-0.1.1-py3-none-any.whl (78kB)\n",
            "\u001b[K     |████████████████████████████████| 81kB 20.0MB/s \n",
            "\u001b[?25hCollecting qiskit-aqua==0.5.2 (from qiskit==0.10.5)\n",
            "\u001b[?25l  Downloading https://files.pythonhosted.org/packages/3d/2c/18f987e2b673b0c47f6293f6d2c51e1f6db176744c81321f6cf28614d458/qiskit_aqua-0.5.2-py3-none-any.whl (401kB)\n",
            "\u001b[K     |████████████████████████████████| 409kB 53.1MB/s \n",
            "\u001b[?25hCollecting qiskit-chemistry==0.5.0 (from qiskit==0.10.5)\n",
            "\u001b[?25l  Downloading https://files.pythonhosted.org/packages/41/35/6b10aa3ea2fbe1b64cb0c3b2eaecb23cff044b574b151e8adc9ab9fbfe9a/qiskit_chemistry-0.5.0-py3-none-any.whl (516kB)\n",
            "\u001b[K     |████████████████████████████████| 522kB 50.5MB/s \n",
            "\u001b[?25hRequirement already satisfied: pillow>=4.2.1 in /usr/local/lib/python3.6/dist-packages (from qiskit_terra==0.8.2->qiskit==0.10.5) (4.3.0)\n",
            "Requirement already satisfied: networkx>=2.2 in /usr/local/lib/python3.6/dist-packages (from qiskit_terra==0.8.2->qiskit==0.10.5) (2.3)\n",
            "Collecting pylatexenc>=1.4 (from qiskit_terra==0.8.2->qiskit==0.10.5)\n",
            "\u001b[?25l  Downloading https://files.pythonhosted.org/packages/2d/44/93573fef5cb46842ce9a87548008bea92c8f7523c7c2152cfdffee269ed5/pylatexenc-1.5.tar.gz (47kB)\n",
            "\u001b[K     |████████████████████████████████| 51kB 10.6MB/s \n",
            "\u001b[?25hRequirement already satisfied: scipy>=1.0 in /usr/local/lib/python3.6/dist-packages (from qiskit_terra==0.8.2->qiskit==0.10.5) (1.3.0)\n",
            "Collecting marshmallow-polyfield<4,>=3.2 (from qiskit_terra==0.8.2->qiskit==0.10.5)\n",
            "  Downloading https://files.pythonhosted.org/packages/fa/ba/6406b8cce3e42b2838d234310c3605627083bbb8f71dcc312c616480fe92/marshmallow_polyfield-3.2-py2.py3-none-any.whl\n",
            "Requirement already satisfied: psutil>=5 in /usr/local/lib/python3.6/dist-packages (from qiskit_terra==0.8.2->qiskit==0.10.5) (5.4.8)\n",
            "Collecting marshmallow<3,>=2.17.0 (from qiskit_terra==0.8.2->qiskit==0.10.5)\n",
            "\u001b[?25l  Downloading https://files.pythonhosted.org/packages/77/0b/ee5a4d0b7bc88bb3b59a25fb40e1811810c039f7faa1e87dcdcbcb1fdc33/marshmallow-2.19.5-py2.py3-none-any.whl (50kB)\n",
            "\u001b[K     |████████████████████████████████| 51kB 21.1MB/s \n",
            "\u001b[?25hCollecting ply>=3.10 (from qiskit_terra==0.8.2->qiskit==0.10.5)\n",
            "\u001b[?25l  Downloading https://files.pythonhosted.org/packages/a3/58/35da89ee790598a0700ea49b2a66594140f44dec458c07e8e3d4979137fc/ply-3.11-py2.py3-none-any.whl (49kB)\n",
            "\u001b[K     |████████████████████████████████| 51kB 25.1MB/s \n",
            "\u001b[?25hCollecting sympy>=1.3 (from qiskit_terra==0.8.2->qiskit==0.10.5)\n",
            "\u001b[?25l  Downloading https://files.pythonhosted.org/packages/21/21/f4105795ca7f35c541d82c5b06be684dd2f5cb4f508fb487cd7aea4de776/sympy-1.4-py2.py3-none-any.whl (5.3MB)\n",
            "\u001b[K     |████████████████████████████████| 5.3MB 19.6MB/s \n",
            "\u001b[?25hRequirement already satisfied: jsonschema<2.7,>=2.6 in /usr/local/lib/python3.6/dist-packages (from qiskit_terra==0.8.2->qiskit==0.10.5) (2.6.0)\n",
            "Requirement already satisfied: numpy>=1.13 in /usr/local/lib/python3.6/dist-packages (from qiskit_terra==0.8.2->qiskit==0.10.5) (1.16.4)\n",
            "Requirement already satisfied: requests>=2.19 in /usr/local/lib/python3.6/dist-packages (from qiskit-ibmq-provider==0.2.2->qiskit==0.10.5) (2.21.0)\n",
            "Collecting requests-ntlm>=1.1.0 (from qiskit-ibmq-provider==0.2.2->qiskit==0.10.5)\n",
            "  Downloading https://files.pythonhosted.org/packages/03/4b/8b9a1afde8072c4d5710d9fa91433d504325821b038e00237dc8d6d833dc/requests_ntlm-1.1.0-py2.py3-none-any.whl\n",
            "Collecting websockets<8,>=7 (from qiskit-ibmq-provider==0.2.2->qiskit==0.10.5)\n",
            "\u001b[?25l  Downloading https://files.pythonhosted.org/packages/43/71/8bfa882b9c502c36e5c9ef6732969533670d2b039cbf95a82ced8f762b80/websockets-7.0-cp36-cp36m-manylinux1_x86_64.whl (63kB)\n",
            "\u001b[K     |████████████████████████████████| 71kB 29.1MB/s \n",
            "\u001b[?25hRequirement already satisfied: setuptools>=40.1.0 in /usr/local/lib/python3.6/dist-packages (from qiskit-aqua==0.5.2->qiskit==0.10.5) (41.0.1)\n",
            "Requirement already satisfied: scikit-learn>=0.20.0 in /usr/local/lib/python3.6/dist-packages (from qiskit-aqua==0.5.2->qiskit==0.10.5) (0.21.2)\n",
            "Requirement already satisfied: fastdtw in /usr/local/lib/python3.6/dist-packages (from qiskit-aqua==0.5.2->qiskit==0.10.5) (0.3.2)\n",
            "Requirement already satisfied: cvxopt in /usr/local/lib/python3.6/dist-packages (from qiskit-aqua==0.5.2->qiskit==0.10.5) (1.2.3)\n",
            "Collecting quandl (from qiskit-aqua==0.5.2->qiskit==0.10.5)\n",
            "  Downloading https://files.pythonhosted.org/packages/12/64/6314547cb01fa75697ddba6d6d43a9f1d023c1730ffc6abf3db7a0c89222/Quandl-3.4.8-py2.py3-none-any.whl\n",
            "Collecting dlx (from qiskit-aqua==0.5.2->qiskit==0.10.5)\n",
            "  Downloading https://files.pythonhosted.org/packages/54/c0/b8fb5bb727e983b6f5251433ef941b48f38c65bb0bd6ec509e9185bcd406/dlx-1.0.4.tar.gz\n",
            "Collecting docplex (from qiskit-aqua==0.5.2->qiskit==0.10.5)\n",
            "\u001b[?25l  Downloading https://files.pythonhosted.org/packages/83/e7/5882561091830be9047fe29b4304714ddc0aaf403c8c123ad2e87f4a0376/docplex-2.9.141.tar.gz (501kB)\n",
            "\u001b[K     |████████████████████████████████| 501kB 45.7MB/s \n",
            "\u001b[?25hCollecting pyscf; sys_platform != \"win32\" (from qiskit-chemistry==0.5.0->qiskit==0.10.5)\n",
            "\u001b[?25l  Downloading https://files.pythonhosted.org/packages/db/4b/2a82e6f6dc24fceaf2cb1e2537796b0e9b7f3187d8008ef1f48e2cacb728/pyscf-1.6.2-cp36-cp36m-manylinux1_x86_64.whl (21.5MB)\n",
            "\u001b[K     |████████████████████████████████| 21.5MB 30.3MB/s \n",
            "\u001b[?25hRequirement already satisfied: h5py in /usr/local/lib/python3.6/dist-packages (from qiskit-chemistry==0.5.0->qiskit==0.10.5) (2.8.0)\n",
            "Requirement already satisfied: olefile in /usr/local/lib/python3.6/dist-packages (from pillow>=4.2.1->qiskit_terra==0.8.2->qiskit==0.10.5) (0.46)\n",
            "Requirement already satisfied: decorator>=4.3.0 in /usr/local/lib/python3.6/dist-packages (from networkx>=2.2->qiskit_terra==0.8.2->qiskit==0.10.5) (4.4.0)\n",
            "Requirement already satisfied: mpmath>=0.19 in /usr/local/lib/python3.6/dist-packages (from sympy>=1.3->qiskit_terra==0.8.2->qiskit==0.10.5) (1.1.0)\n",
            "Requirement already satisfied: idna<2.9,>=2.5 in /usr/local/lib/python3.6/dist-packages (from requests>=2.19->qiskit-ibmq-provider==0.2.2->qiskit==0.10.5) (2.8)\n",
            "Requirement already satisfied: certifi>=2017.4.17 in /usr/local/lib/python3.6/dist-packages (from requests>=2.19->qiskit-ibmq-provider==0.2.2->qiskit==0.10.5) (2019.6.16)\n",
            "Requirement already satisfied: chardet<3.1.0,>=3.0.2 in /usr/local/lib/python3.6/dist-packages (from requests>=2.19->qiskit-ibmq-provider==0.2.2->qiskit==0.10.5) (3.0.4)\n",
            "Requirement already satisfied: urllib3<1.25,>=1.21.1 in /usr/local/lib/python3.6/dist-packages (from requests>=2.19->qiskit-ibmq-provider==0.2.2->qiskit==0.10.5) (1.24.3)\n",
            "Collecting cryptography>=1.3 (from requests-ntlm>=1.1.0->qiskit-ibmq-provider==0.2.2->qiskit==0.10.5)\n",
            "\u001b[?25l  Downloading https://files.pythonhosted.org/packages/97/18/c6557f63a6abde34707196fb2cad1c6dc0dbff25a200d5044922496668a4/cryptography-2.7-cp34-abi3-manylinux1_x86_64.whl (2.3MB)\n",
            "\u001b[K     |████████████████████████████████| 2.3MB 34.8MB/s \n",
            "\u001b[?25hCollecting ntlm-auth>=1.0.2 (from requests-ntlm>=1.1.0->qiskit-ibmq-provider==0.2.2->qiskit==0.10.5)\n",
            "  Downloading https://files.pythonhosted.org/packages/d5/3d/1c54e92f62bbc747a638da94adb439f99dc2d2f3041fe41a06b0da4f2808/ntlm_auth-1.3.0-py2.py3-none-any.whl\n",
            "Requirement already satisfied: joblib>=0.11 in /usr/local/lib/python3.6/dist-packages (from scikit-learn>=0.20.0->qiskit-aqua==0.5.2->qiskit==0.10.5) (0.13.2)\n",
            "Requirement already satisfied: pandas>=0.14 in /usr/local/lib/python3.6/dist-packages (from quandl->qiskit-aqua==0.5.2->qiskit==0.10.5) (0.24.2)\n",
            "Collecting pyOpenSSL (from quandl->qiskit-aqua==0.5.2->qiskit==0.10.5)\n",
            "\u001b[?25l  Downloading https://files.pythonhosted.org/packages/01/c8/ceb170d81bd3941cbeb9940fc6cc2ef2ca4288d0ca8929ea4db5905d904d/pyOpenSSL-19.0.0-py2.py3-none-any.whl (53kB)\n",
            "\u001b[K     |████████████████████████████████| 61kB 27.0MB/s \n",
            "\u001b[?25hRequirement already satisfied: six in /usr/local/lib/python3.6/dist-packages (from quandl->qiskit-aqua==0.5.2->qiskit==0.10.5) (1.12.0)\n",
            "Requirement already satisfied: python-dateutil in /usr/local/lib/python3.6/dist-packages (from quandl->qiskit-aqua==0.5.2->qiskit==0.10.5) (2.5.3)\n",
            "Collecting more-itertools<=5.0.0 (from quandl->qiskit-aqua==0.5.2->qiskit==0.10.5)\n",
            "\u001b[?25l  Downloading https://files.pythonhosted.org/packages/a4/a6/42f17d065bda1fac255db13afc94c93dbfb64393eae37c749b4cb0752fc7/more_itertools-5.0.0-py3-none-any.whl (52kB)\n",
            "\u001b[K     |████████████████████████████████| 61kB 24.7MB/s \n",
            "\u001b[?25hCollecting inflection>=0.3.1 (from quandl->qiskit-aqua==0.5.2->qiskit==0.10.5)\n",
            "  Downloading https://files.pythonhosted.org/packages/d5/35/a6eb45b4e2356fe688b21570864d4aa0d0a880ce387defe9c589112077f8/inflection-0.3.1.tar.gz\n",
            "Collecting ndg-httpsclient (from quandl->qiskit-aqua==0.5.2->qiskit==0.10.5)\n",
            "  Downloading https://files.pythonhosted.org/packages/fb/67/c2f508c00ed2a6911541494504b7cac16fe0b0473912568df65fd1801132/ndg_httpsclient-0.5.1-py3-none-any.whl\n",
            "Requirement already satisfied: pyasn1 in /usr/local/lib/python3.6/dist-packages (from quandl->qiskit-aqua==0.5.2->qiskit==0.10.5) (0.4.5)\n",
            "Collecting docloud>=1.0.315 (from docplex->qiskit-aqua==0.5.2->qiskit==0.10.5)\n",
            "  Downloading https://files.pythonhosted.org/packages/89/1c/fcb7ea86ae5cb7137a22f00bcaa785de2d102bd4a2b16383ec4a877a835b/docloud-1.0.375.tar.gz\n",
            "Requirement already satisfied: cffi!=1.11.3,>=1.8 in /usr/local/lib/python3.6/dist-packages (from cryptography>=1.3->requests-ntlm>=1.1.0->qiskit-ibmq-provider==0.2.2->qiskit==0.10.5) (1.12.3)\n",
            "Collecting asn1crypto>=0.21.0 (from cryptography>=1.3->requests-ntlm>=1.1.0->qiskit-ibmq-provider==0.2.2->qiskit==0.10.5)\n",
            "\u001b[?25l  Downloading https://files.pythonhosted.org/packages/ea/cd/35485615f45f30a510576f1a56d1e0a7ad7bd8ab5ed7cdc600ef7cd06222/asn1crypto-0.24.0-py2.py3-none-any.whl (101kB)\n",
            "\u001b[K     |████████████████████████████████| 102kB 32.7MB/s \n",
            "\u001b[?25hRequirement already satisfied: pytz>=2011k in /usr/local/lib/python3.6/dist-packages (from pandas>=0.14->quandl->qiskit-aqua==0.5.2->qiskit==0.10.5) (2018.9)\n",
            "Requirement already satisfied: pycparser in /usr/local/lib/python3.6/dist-packages (from cffi!=1.11.3,>=1.8->cryptography>=1.3->requests-ntlm>=1.1.0->qiskit-ibmq-provider==0.2.2->qiskit==0.10.5) (2.19)\n",
            "Building wheels for collected packages: qiskit, qiskit-ibmq-provider, pylatexenc, dlx, docplex, inflection, docloud\n",
            "  Building wheel for qiskit (setup.py) ... \u001b[?25lerror\n",
            "\u001b[31m  ERROR: Failed building wheel for qiskit\u001b[0m\n",
            "\u001b[?25h  Running setup.py clean for qiskit\n",
            "  Building wheel for qiskit-ibmq-provider (setup.py) ... \u001b[?25l\u001b[?25hdone\n",
            "  Stored in directory: /root/.cache/pip/wheels/5f/2d/d0/8071064f052e2fc871eacfc0f512f749400f9040c348c40146\n",
            "  Building wheel for pylatexenc (setup.py) ... \u001b[?25l\u001b[?25hdone\n",
            "  Stored in directory: /root/.cache/pip/wheels/da/d1/f1/fa2d005ecda8836039af952de8f4bf1defd42fe385027b6f52\n",
            "  Building wheel for dlx (setup.py) ... \u001b[?25l\u001b[?25hdone\n",
            "  Stored in directory: /root/.cache/pip/wheels/bb/ba/15/fdd0deb104df3254912998150ba9245668db06b00af5912d1a\n",
            "  Building wheel for docplex (setup.py) ... \u001b[?25l\u001b[?25hdone\n",
            "  Stored in directory: /root/.cache/pip/wheels/87/a0/8b/d628240de84941fbc744b270701a75d16c2368e1f341264965\n",
            "  Building wheel for inflection (setup.py) ... \u001b[?25l\u001b[?25hdone\n",
            "  Stored in directory: /root/.cache/pip/wheels/9f/5a/d3/6fc3bf6516d2a3eb7e18f9f28b472110b59325f3f258fe9211\n",
            "  Building wheel for docloud (setup.py) ... \u001b[?25l\u001b[?25hdone\n",
            "  Stored in directory: /root/.cache/pip/wheels/4e/24/19/9b0e57545d7543ecec35c5faff78c058bf0c2506369c8b1d31\n",
            "Successfully built qiskit-ibmq-provider pylatexenc dlx docplex inflection docloud\n",
            "Failed to build qiskit\n",
            "\u001b[31mERROR: datascience 0.10.6 has requirement folium==0.2.1, but you'll have folium 0.8.3 which is incompatible.\u001b[0m\n",
            "Installing collected packages: pylatexenc, marshmallow, marshmallow-polyfield, ply, sympy, qiskit-terra, qiskit-aer, asn1crypto, cryptography, ntlm-auth, requests-ntlm, websockets, qiskit-ibmq-provider, qiskit-ignis, pyOpenSSL, more-itertools, inflection, ndg-httpsclient, quandl, dlx, docloud, docplex, qiskit-aqua, pyscf, qiskit-chemistry, qiskit\n",
            "  Found existing installation: sympy 1.1.1\n",
            "    Uninstalling sympy-1.1.1:\n",
            "      Successfully uninstalled sympy-1.1.1\n",
            "  Found existing installation: more-itertools 7.0.0\n",
            "    Uninstalling more-itertools-7.0.0:\n",
            "      Successfully uninstalled more-itertools-7.0.0\n",
            "  Running setup.py install for qiskit ... \u001b[?25l\u001b[?25hdone\n",
            "Successfully installed asn1crypto-0.24.0 cryptography-2.7 dlx-1.0.4 docloud-1.0.375 docplex-2.9.141 inflection-0.3.1 marshmallow-2.19.5 marshmallow-polyfield-3.2 more-itertools-5.0.0 ndg-httpsclient-0.5.1 ntlm-auth-1.3.0 ply-3.11 pyOpenSSL-19.0.0 pylatexenc-1.5 pyscf-1.6.2 qiskit-0.10.5 qiskit-aer-0.2.1 qiskit-aqua-0.5.2 qiskit-chemistry-0.5.0 qiskit-ibmq-provider-0.2.2 qiskit-ignis-0.1.1 qiskit-terra-0.8.2 quandl-3.4.8 requests-ntlm-1.1.0 sympy-1.4 websockets-7.0\n"
          ],
          "name": "stdout"
        }
      ]
    },
    {
      "cell_type": "markdown",
      "metadata": {
        "id": "u8LPZKPykuMD",
        "colab_type": "text"
      },
      "source": [
        "# 1量子ビットの量子回路"
      ]
    },
    {
      "cell_type": "code",
      "metadata": {
        "id": "MlKnoHMMkza-",
        "colab_type": "code",
        "outputId": "abbbead0-043a-444f-d68a-339790d8e568",
        "colab": {
          "base_uri": "https://localhost:8080/",
          "height": 135
        }
      },
      "source": [
        "from qiskit import QuantumCircuit, ClassicalRegister, QuantumRegister\n",
        "from qiskit import execute, Aer\n",
        "from qiskit.visualization import plot_histogram\n",
        "\n",
        "qr = QuantumRegister(1, 'q')\n",
        "cr = ClassicalRegister(1, 'c')\n",
        "circuit = QuantumCircuit(qr, cr)\n",
        "\n",
        "circuit.h(qr[0])\n",
        "\n",
        "circuit.draw(output='mpl')"
      ],
      "execution_count": 2,
      "outputs": [
        {
          "output_type": "execute_result",
          "data": {
            "image/png": "[encoded data removed]",
            "text/plain": [
              "<Figure size 240.8x138.46 with 1 Axes>"
            ]
          },
          "metadata": {
            "tags": []
          },
          "execution_count": 2
        }
      ]
    },
    {
      "cell_type": "code",
      "metadata": {
        "id": "UKPQS95Jk5N5",
        "colab_type": "code",
        "outputId": "64cad17f-b1ed-4110-da60-cce9c59cad79",
        "colab": {
          "base_uri": "https://localhost:8080/",
          "height": 135
        }
      },
      "source": [
        "from qiskit import QuantumCircuit, ClassicalRegister, QuantumRegister\n",
        "from qiskit import execute, Aer\n",
        "from qiskit.visualization import plot_histogram\n",
        "\n",
        "qr = QuantumRegister(1, 'q')\n",
        "cr = ClassicalRegister(1, 'c')\n",
        "circuit = QuantumCircuit(qr, cr)\n",
        "\n",
        "circuit.x(qr[0])\n",
        "\n",
        "circuit.draw(output='mpl')"
      ],
      "execution_count": 3,
      "outputs": [
        {
          "output_type": "execute_result",
          "data": {
            "image/png": "[encoded data removed]",
            "text/plain": [
              "<Figure size 240.8x138.46 with 1 Axes>"
            ]
          },
          "metadata": {
            "tags": []
          },
          "execution_count": 3
        }
      ]
    },
    {
      "cell_type": "code",
      "metadata": {
        "id": "jzyV1FTlk5Q9",
        "colab_type": "code",
        "outputId": "001e1d2d-5b57-43be-96ca-7c1980e1cb03",
        "colab": {
          "base_uri": "https://localhost:8080/",
          "height": 135
        }
      },
      "source": [
        "from qiskit import QuantumCircuit, ClassicalRegister, QuantumRegister\n",
        "from qiskit import execute, Aer\n",
        "from qiskit.visualization import plot_histogram\n",
        "\n",
        "qr = QuantumRegister(1, 'q')\n",
        "cr = ClassicalRegister(1, 'c')\n",
        "circuit = QuantumCircuit(qr, cr)\n",
        "\n",
        "circuit.z(qr[0])\n",
        "\n",
        "circuit.draw(output='mpl')"
      ],
      "execution_count": 4,
      "outputs": [
        {
          "output_type": "execute_result",
          "data": {
            "image/png": "[encoded data removed]",
            "text/plain": [
              "<Figure size 240.8x138.46 with 1 Axes>"
            ]
          },
          "metadata": {
            "tags": []
          },
          "execution_count": 4
        }
      ]
    },
    {
      "cell_type": "code",
      "metadata": {
        "id": "TIjDqsrJk5W3",
        "colab_type": "code",
        "outputId": "e6bbf540-c15f-41a9-fabe-ba8024439ef3",
        "colab": {
          "base_uri": "https://localhost:8080/",
          "height": 135
        }
      },
      "source": [
        "from qiskit import QuantumCircuit, ClassicalRegister, QuantumRegister\n",
        "from qiskit import execute, Aer\n",
        "from qiskit.visualization import plot_histogram\n",
        "\n",
        "qr = QuantumRegister(1, 'q')\n",
        "cr = ClassicalRegister(1, 'c')\n",
        "circuit = QuantumCircuit(qr, cr)\n",
        "\n",
        "circuit.iden(qr[0])\n",
        "\n",
        "circuit.draw(output='mpl')"
      ],
      "execution_count": 5,
      "outputs": [
        {
          "output_type": "execute_result",
          "data": {
            "image/png": "[encoded data removed]",
            "text/plain": [
              "<Figure size 240.8x138.46 with 1 Axes>"
            ]
          },
          "metadata": {
            "tags": []
          },
          "execution_count": 5
        }
      ]
    },
    {
      "cell_type": "code",
      "metadata": {
        "id": "m843Ot8-k5ZZ",
        "colab_type": "code",
        "outputId": "40c92084-99fc-4d26-edc4-0643e4a022f8",
        "colab": {
          "base_uri": "https://localhost:8080/",
          "height": 135
        }
      },
      "source": [
        "from qiskit import QuantumCircuit, ClassicalRegister, QuantumRegister\n",
        "from qiskit import execute, Aer\n",
        "from qiskit.visualization import plot_histogram\n",
        "\n",
        "qr = QuantumRegister(1, 'q')\n",
        "cr = ClassicalRegister(1, 'c')\n",
        "circuit = QuantumCircuit(qr, cr)\n",
        "\n",
        "circuit.measure(qr, cr)\n",
        "\n",
        "circuit.draw(output='mpl')"
      ],
      "execution_count": 6,
      "outputs": [
        {
          "output_type": "execute_result",
          "data": {
            "image/png": "[encoded data removed]",
            "text/plain": [
              "<Figure size 301x138.46 with 1 Axes>"
            ]
          },
          "metadata": {
            "tags": []
          },
          "execution_count": 6
        }
      ]
    },
    {
      "cell_type": "code",
      "metadata": {
        "id": "qt6KVqMdloUr",
        "colab_type": "code",
        "outputId": "692fd7f6-d619-4b92-9732-930d0507d92a",
        "colab": {
          "base_uri": "https://localhost:8080/",
          "height": 135
        }
      },
      "source": [
        "from qiskit import QuantumCircuit, ClassicalRegister, QuantumRegister\n",
        "from qiskit import execute, Aer\n",
        "from qiskit.visualization import plot_histogram\n",
        "\n",
        "qr = QuantumRegister(1, 'q')\n",
        "cr = ClassicalRegister(1, 'c')\n",
        "circuit = QuantumCircuit(qr, cr)\n",
        "\n",
        "circuit.x(qr[0])\n",
        "circuit.h(qr[0])\n",
        "\n",
        "circuit.measure(qr, cr)\n",
        "\n",
        "circuit.draw(output='mpl')"
      ],
      "execution_count": 7,
      "outputs": [
        {
          "output_type": "execute_result",
          "data": {
            "image/png": "[encoded data removed]",
            "text/plain": [
              "<Figure size 421.4x138.46 with 1 Axes>"
            ]
          },
          "metadata": {
            "tags": []
          },
          "execution_count": 7
        }
      ]
    },
    {
      "cell_type": "markdown",
      "metadata": {
        "id": "ykr1UrvHlG8A",
        "colab_type": "text"
      },
      "source": [
        "# 2量子ビットの量子回路"
      ]
    },
    {
      "cell_type": "code",
      "metadata": {
        "id": "Wu8laf4MlGk3",
        "colab_type": "code",
        "outputId": "48b124aa-2b54-4bf9-aa45-35279a251e9b",
        "colab": {
          "base_uri": "https://localhost:8080/",
          "height": 226
        }
      },
      "source": [
        "from qiskit import QuantumCircuit, ClassicalRegister, QuantumRegister\n",
        "from qiskit import execute, Aer\n",
        "from qiskit.visualization import plot_histogram\n",
        "\n",
        "qr = QuantumRegister(2, 'q')\n",
        "cr = ClassicalRegister(2, 'c')\n",
        "circuit = QuantumCircuit(qr, cr)\n",
        "\n",
        "circuit.h(qr[0])\n",
        "circuit.cx(qr[0], qr[1])\n",
        "\n",
        "circuit.measure(qr, cr)\n",
        "\n",
        "circuit.draw(output='mpl')"
      ],
      "execution_count": 8,
      "outputs": [
        {
          "output_type": "execute_result",
          "data": {
            "image/png": "[encoded data removed]",
            "text/plain": [
              "<Figure size 541.8x258.86 with 1 Axes>"
            ]
          },
          "metadata": {
            "tags": []
          },
          "execution_count": 8
        }
      ]
    },
    {
      "cell_type": "code",
      "metadata": {
        "id": "mDnSgGyGk5bh",
        "colab_type": "code",
        "outputId": "4cdf6c71-b71b-4681-deda-43dad6f14aff",
        "colab": {
          "base_uri": "https://localhost:8080/",
          "height": 226
        }
      },
      "source": [
        "from qiskit import QuantumCircuit, ClassicalRegister, QuantumRegister\n",
        "from qiskit import execute, Aer\n",
        "from qiskit.visualization import plot_histogram\n",
        "\n",
        "qr = QuantumRegister(2, 'q')\n",
        "cr = ClassicalRegister(2, 'c')\n",
        "circuit = QuantumCircuit(qr, cr)\n",
        "\n",
        "circuit.cx(qr[0], qr[1])\n",
        "\n",
        "circuit.draw(output='mpl')"
      ],
      "execution_count": 9,
      "outputs": [
        {
          "output_type": "execute_result",
          "data": {
            "image/png": "[encoded data removed]",
            "text/plain": [
              "<Figure size 240.8x258.86 with 1 Axes>"
            ]
          },
          "metadata": {
            "tags": []
          },
          "execution_count": 9
        }
      ]
    },
    {
      "cell_type": "code",
      "metadata": {
        "id": "5Ohv0SNZk5eZ",
        "colab_type": "code",
        "outputId": "78abdc0c-963f-47d4-e796-9323d56a424d",
        "colab": {
          "base_uri": "https://localhost:8080/",
          "height": 226
        }
      },
      "source": [
        "from qiskit import QuantumCircuit, ClassicalRegister, QuantumRegister\n",
        "from qiskit import execute, Aer\n",
        "from qiskit.visualization import plot_histogram\n",
        "\n",
        "qr = QuantumRegister(2, 'q')\n",
        "cr = ClassicalRegister(2, 'c')\n",
        "circuit = QuantumCircuit(qr, cr)\n",
        "\n",
        "circuit.cx(qr[1], qr[0])\n",
        "\n",
        "circuit.draw(output='mpl')"
      ],
      "execution_count": 10,
      "outputs": [
        {
          "output_type": "execute_result",
          "data": {
            "image/png": "[encoded data removed]",
            "text/plain": [
              "<Figure size 240.8x258.86 with 1 Axes>"
            ]
          },
          "metadata": {
            "tags": []
          },
          "execution_count": 10
        }
      ]
    },
    {
      "cell_type": "code",
      "metadata": {
        "id": "TCYUkvgKlYiS",
        "colab_type": "code",
        "outputId": "61af50f7-fbd4-4e48-8084-587121d5a0d5",
        "colab": {
          "base_uri": "https://localhost:8080/",
          "height": 226
        }
      },
      "source": [
        "from qiskit import QuantumCircuit, ClassicalRegister, QuantumRegister\n",
        "from qiskit import execute, Aer\n",
        "from qiskit.visualization import plot_histogram\n",
        "\n",
        "qr = QuantumRegister(2, 'q')\n",
        "cr = ClassicalRegister(2, 'c')\n",
        "circuit = QuantumCircuit(qr, cr)\n",
        "\n",
        "circuit.swap(qr[0], qr[1])\n",
        "\n",
        "circuit.draw(output='mpl')"
      ],
      "execution_count": 11,
      "outputs": [
        {
          "output_type": "execute_result",
          "data": {
            "image/png": "[encoded data removed]",
            "text/plain": [
              "<Figure size 240.8x258.86 with 1 Axes>"
            ]
          },
          "metadata": {
            "tags": []
          },
          "execution_count": 11
        }
      ]
    },
    {
      "cell_type": "code",
      "metadata": {
        "id": "C91ASb99lYkp",
        "colab_type": "code",
        "outputId": "3994e22f-40bd-4cc7-b166-44f662cfa09e",
        "colab": {
          "base_uri": "https://localhost:8080/",
          "height": 226
        }
      },
      "source": [
        "from qiskit import QuantumCircuit, ClassicalRegister, QuantumRegister\n",
        "from qiskit import execute, Aer\n",
        "from qiskit.visualization import plot_histogram\n",
        "\n",
        "qr = QuantumRegister(2, 'q')\n",
        "cr = ClassicalRegister(2, 'c')\n",
        "circuit = QuantumCircuit(qr, cr)\n",
        "\n",
        "circuit.measure(qr, cr)\n",
        "\n",
        "circuit.draw(output='mpl')"
      ],
      "execution_count": 12,
      "outputs": [
        {
          "output_type": "execute_result",
          "data": {
            "image/png": "[encoded data removed]",
            "text/plain": [
              "<Figure size 421.4x258.86 with 1 Axes>"
            ]
          },
          "metadata": {
            "tags": []
          },
          "execution_count": 12
        }
      ]
    }
  ]
}