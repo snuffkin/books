{
  "nbformat": 4,
  "nbformat_minor": 0,
  "metadata": {
    "colab": {
      "name": "chapter6.ipynb",
      "version": "0.3.2",
      "provenance": [],
      "collapsed_sections": []
    },
    "kernelspec": {
      "name": "python3",
      "display_name": "Python 3"
    }
  },
  "cells": [
    {
      "cell_type": "markdown",
      "metadata": {
        "id": "Xdfg5aAomx-t",
        "colab_type": "text"
      },
      "source": [
        "# 第6章のソースコード"
      ]
    },
    {
      "cell_type": "markdown",
      "metadata": {
        "id": "hoij1f38m2mq",
        "colab_type": "text"
      },
      "source": [
        "## リスト6.1: 量子回路の作成"
      ]
    },
    {
      "cell_type": "code",
      "metadata": {
        "id": "OBwTJxTDm0-y",
        "colab_type": "code",
        "outputId": "f2414b28-4d58-4084-a03e-ca3007c46a04",
        "colab": {
          "base_uri": "https://localhost:8080/",
          "height": 34
        }
      },
      "source": [
        "from qiskit import QuantumCircuit\n",
        "from qiskit import ClassicalRegister, QuantumRegister\n",
        "\n",
        "# 量子回路の初期化\n",
        "qr = QuantumRegister(2, 'q') # 量子レジスタを作成\n",
        "cr = ClassicalRegister(2, 'c') # 古典レジスタを作成\n",
        "circuit = QuantumCircuit(qr, cr) # レジスタを使い量子回路を初期化\n",
        "\n",
        "# 量子回路の組み立て\n",
        "circuit.h(qr[0]) # アダマール行列を適用\n",
        "circuit.cx(qr[0], qr[1]) # CNOTを適用\n",
        "\n",
        "# 測定\n",
        "circuit.measure(qr, cr)"
      ],
      "execution_count": 1,
      "outputs": [
        {
          "output_type": "execute_result",
          "data": {
            "text/plain": [
              "<qiskit.circuit.instructionset.InstructionSet at 0x7f9fe8e44b70>"
            ]
          },
          "metadata": {
            "tags": []
          },
          "execution_count": 1
        }
      ]
    },
    {
      "cell_type": "markdown",
      "metadata": {
        "id": "Lzv7UqicnLmo",
        "colab_type": "text"
      },
      "source": [
        "## リスト6.2: 実行と結果取得(実行する毎に結果は変化します)"
      ]
    },
    {
      "cell_type": "code",
      "metadata": {
        "id": "IPqOiLFZnQar",
        "colab_type": "code",
        "outputId": "2e15e831-3157-4db2-f40b-76904a33a65e",
        "colab": {
          "base_uri": "https://localhost:8080/",
          "height": 34
        }
      },
      "source": [
        "from qiskit import Aer, execute\n",
        "\n",
        "# 実行と結果取得\n",
        "backend = Aer.get_backend('qasm_simulator') # デバイス指定 \n",
        "job = execute(circuit, backend) # 量子プログラムを実行\n",
        "result = job.result() # 結果を取得\n",
        "print(result.get_counts(circuit)) # 結果をテキスト表示"
      ],
      "execution_count": 2,
      "outputs": [
        {
          "output_type": "stream",
          "text": [
            "{'00': 517, '11': 507}\n"
          ],
          "name": "stdout"
        }
      ]
    },
    {
      "cell_type": "markdown",
      "metadata": {
        "id": "sRiCrZyQnUiu",
        "colab_type": "text"
      },
      "source": [
        "## リスト6.4: ヒストグラム表示(実行する毎に結果は変化します)"
      ]
    },
    {
      "cell_type": "code",
      "metadata": {
        "id": "qG6Ma-AAne8X",
        "colab_type": "code",
        "outputId": "3725c1f5-4821-4e84-d43e-1f7e8c70de15",
        "colab": {
          "base_uri": "https://localhost:8080/",
          "height": 335
        }
      },
      "source": [
        "from qiskit.visualization import plot_histogram\n",
        "\n",
        "# ヒストグラム表示\n",
        "plot_histogram(job.result().get_counts(circuit))"
      ],
      "execution_count": 3,
      "outputs": [
        {
          "output_type": "execute_result",
          "data": {
            "image/png": "[encoded data removed]",
            "text/plain": [
              "<Figure size 504x360 with 1 Axes>"
            ]
          },
          "metadata": {
            "tags": []
          },
          "execution_count": 3
        }
      ]
    },
    {
      "cell_type": "markdown",
      "metadata": {
        "id": "k6NDai1nnklA",
        "colab_type": "text"
      },
      "source": [
        "## リスト6.5: 量子回路を描画"
      ]
    },
    {
      "cell_type": "code",
      "metadata": {
        "id": "lRceSzx1nnyb",
        "colab_type": "code",
        "outputId": "80fa5fef-43d6-41b8-94d9-23308dff6080",
        "colab": {
          "base_uri": "https://localhost:8080/",
          "height": 226
        }
      },
      "source": [
        "# 量子回路を描画\n",
        "circuit.draw(output='mpl')"
      ],
      "execution_count": 4,
      "outputs": [
        {
          "output_type": "execute_result",
          "data": {
            "image/png": "[encoded data removed]",
            "text/plain": [
              "<Figure size 541.8x258.86 with 1 Axes>"
            ]
          },
          "metadata": {
            "tags": []
          },
          "execution_count": 4
        }
      ]
    }
  ]
}