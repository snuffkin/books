{
  "nbformat": 4,
  "nbformat_minor": 0,
  "metadata": {
    "colab": {
      "name": "chapter7.ipynb",
      "version": "0.3.2",
      "provenance": [],
      "collapsed_sections": []
    },
    "kernelspec": {
      "name": "python3",
      "display_name": "Python 3"
    }
  },
  "cells": [
    {
      "cell_type": "markdown",
      "metadata": {
        "id": "Bd0JCrYboXGa",
        "colab_type": "text"
      },
      "source": [
        "# 第7章のソースコード"
      ]
    },
    {
      "cell_type": "markdown",
      "metadata": {
        "id": "AcBCC_1Oor6l",
        "colab_type": "text"
      },
      "source": [
        "## リスト7.1: TokenとURLを設定"
      ]
    },
    {
      "cell_type": "markdown",
      "metadata": {
        "id": "WljqQm3yfz3v",
        "colab_type": "text"
      },
      "source": [
        "'TOKEN', 'URL'は、IBM Q Experienceから発行されたご自身のものに書き換えて実行してください。"
      ]
    },
    {
      "cell_type": "code",
      "metadata": {
        "id": "W6yWagP6oYci",
        "colab_type": "code",
        "colab": {}
      },
      "source": [
        "from qiskit import IBMQ\n",
        "IBMQ.enable_account('TOKEN', 'URL')"
      ],
      "execution_count": 0,
      "outputs": []
    },
    {
      "cell_type": "markdown",
      "metadata": {
        "id": "ONvGxTW5otk8",
        "colab_type": "text"
      },
      "source": [
        "## リスト7.2: 量子コンピュータを実行するプログラム(実行する毎に結果は変化します)"
      ]
    },
    {
      "cell_type": "code",
      "metadata": {
        "id": "9uDzQnzoofsU",
        "colab_type": "code",
        "outputId": "a6db49b3-9515-4cea-fc66-b696abe03422",
        "colab": {
          "base_uri": "https://localhost:8080/",
          "height": 369
        }
      },
      "source": [
        "from qiskit import QuantumCircuit\n",
        "from qiskit import ClassicalRegister, QuantumRegister\n",
        "from qiskit import execute\n",
        "import time\n",
        "from qiskit.providers.jobstatus import JOB_FINAL_STATES\n",
        "\n",
        "# 量子回路の初期化\n",
        "qr = QuantumRegister(2, 'q') # 量子レジスタを作成\n",
        "cr = ClassicalRegister(2, 'c') # 古典レジスタを作成\n",
        "circuit = QuantumCircuit(qr, cr) # レジスタを使い量子回路を初期化\n",
        "\n",
        "# 量子回路の組み立て\n",
        "circuit.h(qr[0]) # アダマール行列を適用\n",
        "circuit.cx(qr[0], qr[1]) # CNOTを適用\n",
        "\n",
        "# 測定\n",
        "circuit.measure(qr, cr)\n",
        "\n",
        "# 実行と結果取得\n",
        "backend = IBMQ.get_backend('ibmqx4') # デバイス指定 \n",
        "job = execute(circuit, backend) # 量子プログラムを実行\n",
        "\n",
        "# 実行が終了するまで待機\n",
        "start_time = time.time()\n",
        "job_status = job.status()\n",
        "while job_status not in JOB_FINAL_STATES:\n",
        "    time.sleep(10)\n",
        "    job_status = job.status()\n",
        "    print('%0.0f s' % float(time.time()-start_time))\n",
        "\n",
        "result = job.result() # 結果を取得\n",
        "print(result.get_counts(circuit)) # 結果をテキスト表示"
      ],
      "execution_count": 2,
      "outputs": [
        {
          "output_type": "stream",
          "text": [
            "10 s\n",
            "21 s\n",
            "32 s\n",
            "42 s\n",
            "52 s\n",
            "63 s\n",
            "73 s\n",
            "84 s\n",
            "94 s\n",
            "105 s\n",
            "115 s\n",
            "125 s\n",
            "136 s\n",
            "146 s\n",
            "157 s\n",
            "167 s\n",
            "178 s\n",
            "188 s\n",
            "198 s\n",
            "{'10': 45, '11': 326, '01': 144, '00': 509}\n"
          ],
          "name": "stdout"
        }
      ]
    },
    {
      "cell_type": "markdown",
      "metadata": {
        "id": "gf5MAuszo0ip",
        "colab_type": "text"
      },
      "source": [
        "## リスト7.4: ヒストグラム表示(実行する毎に結果は変化します)"
      ]
    },
    {
      "cell_type": "code",
      "metadata": {
        "id": "wB6-T66Qo1ak",
        "colab_type": "code",
        "outputId": "31b6c570-fe62-466b-e946-e51faf3ece50",
        "colab": {
          "base_uri": "https://localhost:8080/",
          "height": 335
        }
      },
      "source": [
        "from qiskit.visualization import plot_histogram\n",
        "\n",
        "# ヒストグラム表示\n",
        "plot_histogram(job.result().get_counts(circuit))"
      ],
      "execution_count": 3,
      "outputs": [
        {
          "output_type": "execute_result",
          "data": {
            "image/png": "[encoded data removed]",
            "text/plain": [
              "<Figure size 504x360 with 1 Axes>"
            ]
          },
          "metadata": {
            "tags": []
          },
          "execution_count": 3
        }
      ]
    }
  ]
}