{
 "cells": [
  {
   "cell_type": "markdown",
   "metadata": {},
   "source": [
    "# 第7章のソースコード"
   ]
  },
  {
   "cell_type": "markdown",
   "metadata": {},
   "source": [
    "## リスト7.2: 量子コンピュータを実行するプログラム(実行する毎に結果は変化します)"
   ]
  },
  {
   "cell_type": "code",
   "execution_count": 1,
   "metadata": {},
   "outputs": [
    {
     "name": "stdout",
     "output_type": "stream",
     "text": [
      "10 s, state=QUEUED\n",
      "20 s, state=COMPLETED\n",
      "Counter({'11': 476, '00': 435, '01': 64, '10': 25})\n"
     ]
    }
   ],
   "source": [
    "import time\n",
    "from braket.circuits import Circuit\n",
    "from braket.aws import AwsDevice\n",
    "\n",
    "# 実行結果を出力するS3のバケット名とプレフィックス\n",
    "bucket = \"amazon-braket-★環境合わせて設定する★\"\n",
    "prefix = \"★環境合わせて設定する★\"\n",
    "s3_folder = (bucket, prefix)\n",
    "\n",
    "# 量子回路の組み立て\n",
    "circuit = Circuit().h(0).cnot(0, 1)\n",
    "\n",
    "# 実行\n",
    "device = AwsDevice(\"arn:aws:braket:::device/qpu/rigetti/Aspen-8\")\n",
    "task = device.run(circuit, s3_folder, shots=1000)\n",
    "\n",
    "# 実行が終了するまで待機\n",
    "start_time = time.time()\n",
    "state = task.state()\n",
    "while state not in [\"COMPLETED\", \"FAILED\", \"CANCELLED\"]:\n",
    "    time.sleep(10)\n",
    "    state = task.state()\n",
    "    print(f\"{int(time.time()-start_time)} s, state={state}\")\n",
    "\n",
    "# 実行結果を取得\n",
    "result = task.result()\n",
    "\n",
    "# 実行結果をテキスト表示\n",
    "counts = result.measurement_counts\n",
    "print(counts)"
   ]
  },
  {
   "cell_type": "markdown",
   "metadata": {},
   "source": [
    "## リスト7.4: ヒストグラム表示"
   ]
  },
  {
   "cell_type": "code",
   "execution_count": 2,
   "metadata": {},
   "outputs": [
    {
     "data": {
      "text/plain": [
       "Text(0, 0.5, 'counts')"
      ]
     },
     "execution_count": 2,
     "metadata": {},
     "output_type": "execute_result"
    },
    {
     "data": {
      "image/png": "[encoded data removed]",
      "text/plain": [
       "<Figure size 432x288 with 1 Axes>"
      ]
     },
     "metadata": {
      "needs_background": "light"
     },
     "output_type": "display_data"
    }
   ],
   "source": [
    "import matplotlib.pyplot as plt\n",
    "\n",
    "# ヒストグラム表示\n",
    "plt.bar(counts.keys(), counts.values())\n",
    "plt.xlabel('bitstrings')\n",
    "plt.ylabel('counts')"
   ]
  }
 ],
 "metadata": {
  "kernelspec": {
   "display_name": "Python 3",
   "language": "python",
   "name": "python3"
  },
  "language_info": {
   "codemirror_mode": {
    "name": "ipython",
    "version": 3
   },
   "file_extension": ".py",
   "mimetype": "text/x-python",
   "name": "python",
   "nbconvert_exporter": "python",
   "pygments_lexer": "ipython3",
   "version": "3.8.5"
  }
 },
 "nbformat": 4,
 "nbformat_minor": 4
}
