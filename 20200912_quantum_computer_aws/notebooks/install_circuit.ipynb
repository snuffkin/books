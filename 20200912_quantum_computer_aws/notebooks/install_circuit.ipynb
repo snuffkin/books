{
 "cells": [
  {
   "cell_type": "markdown",
   "metadata": {
    "colab_type": "text",
    "id": "9J_hBr_ekphD"
   },
   "source": [
    "# インストール"
   ]
  },
  {
   "cell_type": "code",
   "execution_count": 1,
   "metadata": {
    "colab": {
     "base_uri": "https://localhost:8080/",
     "height": 1357
    },
    "colab_type": "code",
    "id": "WnpvI03HkVUb",
    "outputId": "d5de6e08-9d50-4cfc-8c16-dbcf3f091d54"
   },
   "outputs": [
    {
     "name": "stdout",
     "output_type": "stream",
     "text": [
      "Requirement already satisfied: amazon-braket-sdk in /home/satoyuki/anaconda3/lib/python3.8/site-packages (1.0.0.post1)\n",
      "Requirement already satisfied: networkx in /home/satoyuki/anaconda3/lib/python3.8/site-packages (from amazon-braket-sdk) (2.4)\n",
      "Requirement already satisfied: amazon-braket-default-simulator in /home/satoyuki/anaconda3/lib/python3.8/site-packages (from amazon-braket-sdk) (1.0.0.post1)\n",
      "Requirement already satisfied: nest-asyncio in /home/satoyuki/anaconda3/lib/python3.8/site-packages (from amazon-braket-sdk) (1.4.0)\n",
      "Requirement already satisfied: numpy in /home/satoyuki/anaconda3/lib/python3.8/site-packages (from amazon-braket-sdk) (1.19.1)\n",
      "Requirement already satisfied: boltons in /home/satoyuki/anaconda3/lib/python3.8/site-packages (from amazon-braket-sdk) (20.2.1)\n",
      "Requirement already satisfied: boto3 in /home/satoyuki/anaconda3/lib/python3.8/site-packages (from amazon-braket-sdk) (1.14.43)\n",
      "Requirement already satisfied: backoff in /home/satoyuki/anaconda3/lib/python3.8/site-packages (from amazon-braket-sdk) (1.10.0)\n",
      "Requirement already satisfied: decorator>=4.3.0 in /home/satoyuki/anaconda3/lib/python3.8/site-packages (from networkx->amazon-braket-sdk) (4.4.2)\n",
      "Requirement already satisfied: amazon-braket-schemas in /home/satoyuki/anaconda3/lib/python3.8/site-packages (from amazon-braket-default-simulator->amazon-braket-sdk) (1.0.0.post1)\n",
      "Requirement already satisfied: opt-einsum in /home/satoyuki/anaconda3/lib/python3.8/site-packages (from amazon-braket-default-simulator->amazon-braket-sdk) (3.3.0)\n",
      "Requirement already satisfied: s3transfer<0.4.0,>=0.3.0 in /home/satoyuki/anaconda3/lib/python3.8/site-packages (from boto3->amazon-braket-sdk) (0.3.3)\n",
      "Requirement already satisfied: botocore<1.18.0,>=1.17.43 in /home/satoyuki/anaconda3/lib/python3.8/site-packages (from boto3->amazon-braket-sdk) (1.17.43)\n",
      "Requirement already satisfied: jmespath<1.0.0,>=0.7.1 in /home/satoyuki/anaconda3/lib/python3.8/site-packages (from boto3->amazon-braket-sdk) (0.10.0)\n",
      "Requirement already satisfied: pydantic in /home/satoyuki/anaconda3/lib/python3.8/site-packages (from amazon-braket-schemas->amazon-braket-default-simulator->amazon-braket-sdk) (1.6.1)\n",
      "Requirement already satisfied: urllib3<1.26,>=1.20; python_version != \"3.4\" in /home/satoyuki/anaconda3/lib/python3.8/site-packages (from botocore<1.18.0,>=1.17.43->boto3->amazon-braket-sdk) (1.25.10)\n",
      "Requirement already satisfied: docutils<0.16,>=0.10 in /home/satoyuki/anaconda3/lib/python3.8/site-packages (from botocore<1.18.0,>=1.17.43->boto3->amazon-braket-sdk) (0.15.2)\n",
      "Requirement already satisfied: python-dateutil<3.0.0,>=2.1 in /home/satoyuki/anaconda3/lib/python3.8/site-packages (from botocore<1.18.0,>=1.17.43->boto3->amazon-braket-sdk) (2.8.1)\n",
      "Requirement already satisfied: six>=1.5 in /home/satoyuki/anaconda3/lib/python3.8/site-packages (from python-dateutil<3.0.0,>=2.1->botocore<1.18.0,>=1.17.43->boto3->amazon-braket-sdk) (1.15.0)\n"
     ]
    }
   ],
   "source": [
    "!pip install amazon-braket-sdk"
   ]
  },
  {
   "cell_type": "markdown",
   "metadata": {
    "colab_type": "text",
    "id": "u8LPZKPykuMD"
   },
   "source": [
    "# 1量子ビットの量子回路"
   ]
  },
  {
   "cell_type": "code",
   "execution_count": 2,
   "metadata": {
    "colab": {
     "base_uri": "https://localhost:8080/",
     "height": 208
    },
    "colab_type": "code",
    "id": "MlKnoHMMkza-",
    "outputId": "14acef48-fbbb-4974-bdfd-b428186c7975"
   },
   "outputs": [
    {
     "name": "stdout",
     "output_type": "stream",
     "text": [
      "T  : |0|\n",
      "        \n",
      "q0 : -H-\n",
      "\n",
      "T  : |0|\n"
     ]
    }
   ],
   "source": [
    "from braket.circuits import Circuit\n",
    "from braket.devices import LocalSimulator\n",
    "\n",
    "device = LocalSimulator()\n",
    "\n",
    "circuit = Circuit().h(0)\n",
    "\n",
    "print(circuit)"
   ]
  },
  {
   "cell_type": "code",
   "execution_count": 3,
   "metadata": {
    "colab": {
     "base_uri": "https://localhost:8080/",
     "height": 208
    },
    "colab_type": "code",
    "id": "UKPQS95Jk5N5",
    "outputId": "01553dac-0f2e-47eb-94f9-3be84027f62c"
   },
   "outputs": [
    {
     "name": "stdout",
     "output_type": "stream",
     "text": [
      "T  : |0|\n",
      "        \n",
      "q0 : -X-\n",
      "\n",
      "T  : |0|\n"
     ]
    }
   ],
   "source": [
    "from braket.circuits import Circuit\n",
    "from braket.devices import LocalSimulator\n",
    "\n",
    "device = LocalSimulator()\n",
    "\n",
    "circuit = Circuit().x(0)\n",
    "\n",
    "print(circuit)"
   ]
  },
  {
   "cell_type": "code",
   "execution_count": 4,
   "metadata": {
    "colab": {
     "base_uri": "https://localhost:8080/",
     "height": 208
    },
    "colab_type": "code",
    "id": "jzyV1FTlk5Q9",
    "outputId": "42ed6c82-d9c4-4110-dcf8-14fb00651ecf"
   },
   "outputs": [
    {
     "name": "stdout",
     "output_type": "stream",
     "text": [
      "T  : |0|\n",
      "        \n",
      "q0 : -Z-\n",
      "\n",
      "T  : |0|\n"
     ]
    }
   ],
   "source": [
    "from braket.circuits import Circuit\n",
    "from braket.devices import LocalSimulator\n",
    "\n",
    "device = LocalSimulator()\n",
    "\n",
    "circuit = Circuit().z(0)\n",
    "\n",
    "print(circuit)"
   ]
  },
  {
   "cell_type": "code",
   "execution_count": 5,
   "metadata": {
    "colab": {
     "base_uri": "https://localhost:8080/",
     "height": 208
    },
    "colab_type": "code",
    "id": "TIjDqsrJk5W3",
    "outputId": "f09428d9-0ff7-4dfe-cae4-5d14ece5ebc8"
   },
   "outputs": [
    {
     "name": "stdout",
     "output_type": "stream",
     "text": [
      "T  : |0|\n",
      "        \n",
      "q0 : -I-\n",
      "\n",
      "T  : |0|\n"
     ]
    }
   ],
   "source": [
    "from braket.circuits import Circuit\n",
    "from braket.devices import LocalSimulator\n",
    "\n",
    "device = LocalSimulator()\n",
    "\n",
    "circuit = Circuit().i(0)\n",
    "\n",
    "print(circuit)"
   ]
  },
  {
   "cell_type": "code",
   "execution_count": 6,
   "metadata": {
    "colab": {
     "base_uri": "https://localhost:8080/",
     "height": 208
    },
    "colab_type": "code",
    "id": "qt6KVqMdloUr",
    "outputId": "abbc7534-1387-42b1-f267-eddd0f4dbbc8"
   },
   "outputs": [
    {
     "name": "stdout",
     "output_type": "stream",
     "text": [
      "T  : |0|1|\n",
      "          \n",
      "q0 : -X-H-\n",
      "\n",
      "T  : |0|1|\n"
     ]
    }
   ],
   "source": [
    "from braket.circuits import Circuit\n",
    "from braket.devices import LocalSimulator\n",
    "\n",
    "device = LocalSimulator()\n",
    "\n",
    "circuit = Circuit().x(0).h(0)\n",
    "\n",
    "print(circuit)"
   ]
  },
  {
   "cell_type": "markdown",
   "metadata": {
    "colab_type": "text",
    "id": "ykr1UrvHlG8A"
   },
   "source": [
    "# 2量子ビットの量子回路"
   ]
  },
  {
   "cell_type": "code",
   "execution_count": 7,
   "metadata": {
    "colab": {
     "base_uri": "https://localhost:8080/",
     "height": 298
    },
    "colab_type": "code",
    "id": "Wu8laf4MlGk3",
    "outputId": "4b5c4d94-79e0-4eb6-fd04-0b8ed07d4c86"
   },
   "outputs": [
    {
     "name": "stdout",
     "output_type": "stream",
     "text": [
      "T  : |0|1|\n",
      "          \n",
      "q0 : -H-C-\n",
      "        | \n",
      "q1 : ---X-\n",
      "\n",
      "T  : |0|1|\n"
     ]
    }
   ],
   "source": [
    "from braket.circuits import Circuit\n",
    "from braket.devices import LocalSimulator\n",
    "\n",
    "device = LocalSimulator()\n",
    "\n",
    "circuit = Circuit().h(0).cnot(0, 1)\n",
    "\n",
    "print(circuit)"
   ]
  },
  {
   "cell_type": "code",
   "execution_count": 8,
   "metadata": {
    "colab": {
     "base_uri": "https://localhost:8080/",
     "height": 298
    },
    "colab_type": "code",
    "id": "mDnSgGyGk5bh",
    "outputId": "226def9d-e13e-47e7-81a9-355ec30fa2f4"
   },
   "outputs": [
    {
     "name": "stdout",
     "output_type": "stream",
     "text": [
      "T  : |0|\n",
      "        \n",
      "q0 : -C-\n",
      "      | \n",
      "q1 : -X-\n",
      "\n",
      "T  : |0|\n"
     ]
    }
   ],
   "source": [
    "from braket.circuits import Circuit\n",
    "from braket.devices import LocalSimulator\n",
    "\n",
    "device = LocalSimulator()\n",
    "\n",
    "circuit = Circuit().cnot(0, 1)\n",
    "\n",
    "print(circuit)"
   ]
  },
  {
   "cell_type": "code",
   "execution_count": 9,
   "metadata": {
    "colab": {
     "base_uri": "https://localhost:8080/",
     "height": 298
    },
    "colab_type": "code",
    "id": "5Ohv0SNZk5eZ",
    "outputId": "929760cf-f354-44bd-d4ae-5fd7a7d79786"
   },
   "outputs": [
    {
     "name": "stdout",
     "output_type": "stream",
     "text": [
      "T  : |0|\n",
      "        \n",
      "q0 : -X-\n",
      "      | \n",
      "q1 : -C-\n",
      "\n",
      "T  : |0|\n"
     ]
    }
   ],
   "source": [
    "from braket.circuits import Circuit\n",
    "from braket.devices import LocalSimulator\n",
    "\n",
    "device = LocalSimulator()\n",
    "\n",
    "circuit = Circuit().cnot(1, 0)\n",
    "\n",
    "print(circuit)"
   ]
  },
  {
   "cell_type": "code",
   "execution_count": 10,
   "metadata": {
    "colab": {
     "base_uri": "https://localhost:8080/",
     "height": 298
    },
    "colab_type": "code",
    "id": "TCYUkvgKlYiS",
    "outputId": "4da0ef5a-851f-49c0-a963-818bc235ff0d"
   },
   "outputs": [
    {
     "name": "stdout",
     "output_type": "stream",
     "text": [
      "T  : | 0  |\n",
      "           \n",
      "q0 : -SWAP-\n",
      "      |    \n",
      "q1 : -SWAP-\n",
      "\n",
      "T  : | 0  |\n"
     ]
    }
   ],
   "source": [
    "from braket.circuits import Circuit\n",
    "from braket.devices import LocalSimulator\n",
    "\n",
    "device = LocalSimulator()\n",
    "\n",
    "circuit = Circuit().swap(1, 0)\n",
    "\n",
    "print(circuit)"
   ]
  }
 ],
 "metadata": {
  "colab": {
   "collapsed_sections": [],
   "name": "install_circuit.ipynb",
   "provenance": [],
   "version": "0.3.2"
  },
  "kernelspec": {
   "display_name": "Python 3",
   "language": "python",
   "name": "python3"
  },
  "language_info": {
   "codemirror_mode": {
    "name": "ipython",
    "version": 3
   },
   "file_extension": ".py",
   "mimetype": "text/x-python",
   "name": "python",
   "nbconvert_exporter": "python",
   "pygments_lexer": "ipython3",
   "version": "3.8.5"
  }
 },
 "nbformat": 4,
 "nbformat_minor": 1
}
